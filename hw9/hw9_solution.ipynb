{
 "cells": [
  {
   "cell_type": "markdown",
   "metadata": {},
   "source": [
    "# CS/ECE/ISyE 524 - Spr 2021 - HW 9\n",
    "### Skylar Hou"
   ]
  },
  {
   "cell_type": "markdown",
   "metadata": {},
   "source": [
    "# 1. Making Change\n",
    "\n",
    "How should you make change for 99 cents if the goal is to minimize the total weight of the coins used? You may use any number of each type of coin. Here are the weights of each coin:\n",
    "\n",
    "|Type of Coin       | penny | nickel | dime | quarter |\n",
    "|:------------------|-------|--------|------|---------|\n",
    "|Weight             |  2.500|5.000   | 2.268| 5.670   |\n",
    "\n",
    "\n",
    "\n",
    "Print the number of each type of coin used, and the total weight."
   ]
  },
  {
   "cell_type": "code",
   "execution_count": 3,
   "metadata": {},
   "outputs": [],
   "source": [
    "using PyPlot, JuMP, HiGHS, Ipopt, Gurobi"
   ]
  },
  {
   "cell_type": "code",
   "execution_count": 8,
   "metadata": {},
   "outputs": [
    {
     "name": "stdout",
     "output_type": "stream",
     "text": [
      "Running HiGHS 1.4.0 [date: 1970-01-01, git hash: bcf6c0b22]\n",
      "Copyright (c) 2022 ERGO-Code under MIT licence terms\n",
      "Presolving model\n",
      "1 rows, 4 cols, 4 nonzeros\n",
      "1 rows, 4 cols, 4 nonzeros\n",
      "Objective function is integral with scale 500\n",
      "\n",
      "Solving MIP model with:\n",
      "   1 rows\n",
      "   4 cols (0 binary, 4 integer, 0 implied int., 0 continuous)\n",
      "   4 nonzeros\n",
      "\n",
      "        Nodes      |    B&B Tree     |            Objective Bounds              |  Dynamic Constraints |       Work      \n",
      "     Proc. InQueue |  Leaves   Expl. | BestBound       BestSol              Gap |   Cuts   InLp Confl. | LpIters     Time\n",
      "\n",
      "         0       0         0   0.00%   10              inf                  inf        0      0      0         0     0.0s\n",
      " T       0       0         0   0.00%   10              31.546            68.30%        0      0      0         0     0.0s\n",
      "\n",
      "Solving report\n",
      "  Status            Optimal\n",
      "  Primal bound      31.546\n",
      "  Dual bound        31.546\n",
      "  Gap               0% (tolerance: 0.01%)\n",
      "  Solution status   feasible\n",
      "                    31.546 (objective)\n",
      "                    0 (bound viol.)\n",
      "                    0 (int. viol.)\n",
      "                    0 (row viol.)\n",
      "  Timing            0.00 (total)\n",
      "                    0.00 (presolve)\n",
      "                    0.00 (postsolve)\n",
      "  Nodes             1\n",
      "  LP iterations     0 (total)\n",
      "                    0 (strong br.)\n",
      "                    0 (separation)\n",
      "                    0 (heuristics)\n",
      "the number of each type of coin used: [4.0, 0.0, 2.0, 3.0]\n",
      "the total weight: 31.546\n"
     ]
    }
   ],
   "source": [
    "# problem data\n",
    "weights = [ 2.500, 5.000, 2.268, 5.670]\n",
    "values = [ 1, 5, 10, 25 ]\n",
    "n = length(weights) # total number of coin types\n",
    "\n",
    "m = Model(HiGHS.Optimizer) \n",
    "\n",
    "@variable(m, num[1:n] >= 0, Int)\n",
    "\n",
    "@constraint(m, sum(num[i]*values[i] for i in 1:n) == 99)\n",
    "@expression(m, totalweight, sum(num[i]*weights[i] for i in 1:n))\n",
    "\n",
    "@objective(m, Min, totalweight)\n",
    "    \n",
    "optimize!(m)\n",
    "println(\"the number of each type of coin used: \", value.(num))\n",
    "println(\"the total weight: \", objective_value(m))"
   ]
  },
  {
   "cell_type": "markdown",
   "metadata": {},
   "source": [
    "# 2. Comquat Computers\n",
    "\n",
    "Comquat owns four production plants at which personal computers are produced. Comquat can sell up to 20,000 computers per year at a price of \\$3,500 per computer. For each plant the production capacity, cost per computer, and fixed cost of operating the plant for a year are given below. Determine how Comquat can maximize its yearly profit from computer production.\n",
    "\n",
    "| Plant | Production capacity | Plant fixed cost (\\$ Million) | Cost per computer (\\$) |\n",
    "|:-----:|:-------------------:|:-----------------------------:|:----------------------:|\n",
    "| 1     | 10,000              |   9                           |  1,000                 |\n",
    "| 2     |  8,000              |   5                           |  1,700                 |\n",
    "| 3     |  9,000              |   3                           |  2,300                 |\n",
    "| 4     |  6,000              |   1                           |  2,900                 |"
   ]
  },
  {
   "cell_type": "code",
   "execution_count": 15,
   "metadata": {},
   "outputs": [
    {
     "name": "stdout",
     "output_type": "stream",
     "text": [
      "The maximal profit is: 2.56e7\n",
      "Here is a tally of factory number, whether it's open or not, and how many computers it should produce.\n"
     ]
    },
    {
     "data": {
      "text/plain": [
       "4×3 Matrix{Float64}:\n",
       " 1.0  1.0  10000.0\n",
       " 2.0  1.0   8000.0\n",
       " 3.0  0.0      0.0\n",
       " 4.0  1.0   2000.0"
      ]
     },
     "execution_count": 15,
     "metadata": {},
     "output_type": "execute_result"
    }
   ],
   "source": [
    "using JuMP, HiGHS\n",
    "m = Model(HiGHS.Optimizer)\n",
    "set_silent(m)\n",
    "\n",
    "price     = 3.5e3                       # price at which we can sell a single computer \n",
    "                                        # (regardless of where it is produced)\n",
    "cap       = 20000                       # maximum computers that can be sold per year\n",
    "\n",
    "capacity  = [10000, 8000, 9000, 6000]   # production capacity for each plant\n",
    "fixedcost = [9e6, 5e6, 3e6, 1e6]        # fixed cost for each plant\n",
    "itemcost  = [1e3, 1.7e3, 2.3e3, 2.9e3]  # cost per computer for each factory\n",
    "\n",
    "\n",
    "# insert your code here, with integer variable vector z and real variable vector x\n",
    "@variable(m, z[1:4], Bin)\n",
    "@variable(m, x[1:4] >= 0, Int)\n",
    "@constraint(m, c[i in 1:4], x[i] <= z[i] * capacity[i])\n",
    "@constraint(m, sum(x[i] for i in 1:4) <= cap)\n",
    "\n",
    "@expression(m, cost, sum(fixedcost[i]*z[i] + itemcost[i]*x[i] for i in 1:4))\n",
    "@expression(m, profit, sum(x[i] for i in 1:4) * price)\n",
    "\n",
    "@objective(m, Max, profit - cost)\n",
    "\n",
    "optimize!(m)\n",
    "println(\"The maximal profit is: \", objective_value(m))\n",
    "println(\"Here is a tally of factory number, whether it's open or not, and how many computers it should produce.\")\n",
    "value.([1:4 z x])"
   ]
  },
  {
   "cell_type": "markdown",
   "metadata": {},
   "source": [
    "# 3. ABC Investments\n",
    "\n",
    "ABC Inc. is considering several investment options.  Each option has a minimum investment required as well as a maximum investment allowed. These restrictions, along with the expected return are summarized in the following table (figures are in millions of dollars):\n",
    "\n",
    "|Option | Minimum investment | Maximum investment | Expected return (%)  |\n",
    "|:-----:|:------------------:|:------------------:|:--------------------:|\n",
    "|  1    |      3             |      27            |     13               |\n",
    "|  2    |      2             |      12            |      9               |\n",
    "|  3    |      9             |      35            |     17               |\n",
    "|  4    |      5             |      15            |     10               |\n",
    "|  5    |     12             |      46            |     22               |\n",
    "|  6    |      4             |      18            |     12               |\n",
    "\n",
    "Because of the high-risk nature of Option 5, company policy requires that the total amount invested in Option 5 be no more that the combined amount invested in Options 2, 4 and 6.  In addition, if an investment is made in Option 3, it is required that at least a minimum investment be made in Option 6.  ABC has \\$80 million to invest and obviously wants to maximize its total expected return on investment.  Which options should ABC invest in, and how much should be invested?"
   ]
  },
  {
   "cell_type": "code",
   "execution_count": 21,
   "metadata": {},
   "outputs": [
    {
     "name": "stdout",
     "output_type": "stream",
     "text": [
      "The maximum return on investment (net profit) is: $13.5 million.\n",
      "This is an average return of: 16.875 %\n",
      "Here is a tally of each investment, whether we invest or not, and how much we invest (in millions of $).\n"
     ]
    },
    {
     "data": {
      "text/plain": [
       "6×3 Matrix{Float64}:\n",
       " 1.0  0.0   0.0\n",
       " 2.0  0.0   0.0\n",
       " 3.0  1.0  34.0\n",
       " 4.0  1.0   5.0\n",
       " 5.0  1.0  23.0\n",
       " 6.0  1.0  18.0"
      ]
     },
     "execution_count": 21,
     "metadata": {},
     "output_type": "execute_result"
    }
   ],
   "source": [
    "using JuMP, HiGHS\n",
    "m = Model(HiGHS.Optimizer)\n",
    "set_silent(m)\n",
    "\n",
    "lows  = [  3,  2,  9,  5, 12,  4 ]  # minimum investment\n",
    "highs = [ 27, 12, 35, 15, 46, 18 ]  # maximum investment\n",
    "ret   = [ 13,  9, 17, 10, 22, 12 ]  # expected return\n",
    "\n",
    "# your code here\n",
    "n = length(lows)\n",
    "\n",
    "@variable(m, z[1:n], Bin)\n",
    "@variable(m, x[1:n] >= 0, Int)\n",
    "@constraint(m, c1[i in 1:n], z[i] * lows[i] <= x[i])\n",
    "@constraint(m, c2[i in 1:n], x[i] <= z[i] * highs[i])\n",
    "@constraint(m, sum(x[i] for i in 1:n) <= 80)\n",
    "@constraint(m, x[5] <= sum(x[i] for i in [2, 4, 6]))\n",
    "@constraint(m, x[6] >= z[3] * lows[6])\n",
    "\n",
    "@expression(m, profit, sum(x[i]*ret[i]/100 for i in 1:n))\n",
    "\n",
    "@objective(m, Max, profit)\n",
    "\n",
    "optimize!(m)\n",
    "println(\"The maximum return on investment (net profit) is: \\$\", objective_value(m), \" million.\")\n",
    "println(\"This is an average return of: \", 100*objective_value(m)/value(sum(x)), \" %\")\n",
    "println(\"Here is a tally of each investment, whether we invest or not, and how much we invest (in millions of \\$).\")\n",
    "value.([1:6 z x])"
   ]
  },
  {
   "cell_type": "markdown",
   "metadata": {},
   "source": [
    "# 4. Paint production\n",
    "\n",
    "As part of its weekly production, a paint company produces five batches of paints, always the same, for some big clients who have a stable demand.  Every paint batch is produced in a single production process, all in the same blender that needs to be cleaned between each batch.  The durations of blending paint batches 1 to 5 are 40, 35, 45, 32 and 50 minutes respectively.  The cleaning times depend of the colors and the paint types.  For example, a long cleaning period is required if an oil-based paint is produced after a water-based paint, or to produce white paint after a dark color.  The times are given in minutes in the following matrix $A$ where $A_{ij}$ denotes the cleaning time after batch $i$ if it is followed by batch $j$.\n",
    "\n",
    "$$\n",
    "A = \\begin{bmatrix}\n",
    " 0&11& 7&13&11 \\\\\n",
    " 5& 0&13&15&15 \\\\\n",
    "13&15& 0&23&11 \\\\\n",
    " 9&13& 5& 0& 3 \\\\\n",
    " 3& 7& 7& 7& 0\n",
    "\\end{bmatrix}\n",
    "$$\n",
    "\n",
    "Since the company has other activities, it wishes to deal with this weekly production in the shortest possible time (blending and cleaning).  What is the corresponding order of paint batches?  The order will be applied every week, so the cleaning time between the last batch of one week and the first of the following week needs to be accounted for in the total duration of cleaning.\n",
    "                "
   ]
  },
  {
   "cell_type": "code",
   "execution_count": 27,
   "metadata": {},
   "outputs": [
    {
     "name": "stdout",
     "output_type": "stream",
     "text": [
      " blend 1 is followed by blend 4 requiring cleanup time 13\n",
      " blend 2 is followed by blend 1 requiring cleanup time 5\n",
      " blend 3 is followed by blend 5 requiring cleanup time 11\n",
      " blend 4 is followed by blend 3 requiring cleanup time 5\n",
      " blend 5 is followed by blend 2 requiring cleanup time 7\n",
      "and the minimum cleanup time is: 41.0 min, (plus 202 min of blending)\n",
      "0; Iter: Time           0; average =           0; Bound =           0\n"
     ]
    }
   ],
   "source": [
    "# A[i,j] is the time it takes to clean after batch i if followed by batch j\n",
    "A = [  0  11   7  13  11\n",
    "       5   0  13  15  15\n",
    "      13  15   0  23  11\n",
    "       9  13   5   0   3\n",
    "       3   7   7   7   0 ]\n",
    "\n",
    "# time it takes to blend a particular batch. \n",
    "b = [ 40, 35, 45, 32, 50 ]\n",
    "\n",
    "using JuMP, HiGHS\n",
    "m = Model(HiGHS.Optimizer)\n",
    "set_silent(m)\n",
    "\n",
    "n = length(b)  # number of paints\n",
    "\n",
    "# YOUR CODE HERE\n",
    "paints = 1:n\n",
    "@variable(m, x[paints, paints], Bin)\n",
    "@variable(m, u[paints] >= 1)\n",
    "\n",
    "@constraint(m, c1[j in paints], sum(x[i,j] for i in paints) == 1)\n",
    "@constraint(m, c2[i in paints], sum(x[i,j] for j in paints) == 1)\n",
    "@constraint(m, c3[i in paints], x[i,i] == 0)\n",
    "\n",
    "@constraint(m, c4[i in paints, j in paints[2:end]], u[i] - u[j] + n * x[i,j] <= n-1)\n",
    "@objective(m, Min, sum(x[i,j]*A[i,j] for i in paints, j in paints))\n",
    "\n",
    "optimize!(m)\n",
    "\n",
    "X = value.(x);\n",
    "for i = 1:n\n",
    "    for j=1:n\n",
    "        if (X[i,j] >= .99)\n",
    "            println(\" blend \",i,\" is followed by blend \",j,\" requiring cleanup time \",A[i,j])\n",
    "        end\n",
    "    end\n",
    "end\n",
    "\n",
    "println(\"and the minimum cleanup time is: \", objective_value(m), \" min, (plus \", sum(b), \" min of blending)\")"
   ]
  },
  {
   "cell_type": "code",
   "execution_count": null,
   "metadata": {},
   "outputs": [],
   "source": []
  }
 ],
 "metadata": {
  "kernelspec": {
   "display_name": "Julia 1.8.5",
   "language": "julia",
   "name": "julia-1.8"
  },
  "language_info": {
   "file_extension": ".jl",
   "mimetype": "application/julia",
   "name": "julia",
   "version": "1.8.5"
  }
 },
 "nbformat": 4,
 "nbformat_minor": 1
}
