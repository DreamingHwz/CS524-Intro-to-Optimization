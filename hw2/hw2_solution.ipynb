{
 "cells": [
  {
   "cell_type": "markdown",
   "metadata": {},
   "source": [
    "## Construction with constraints"
   ]
  },
  {
   "cell_type": "markdown",
   "metadata": {},
   "source": [
    "The answer is yes. "
   ]
  },
  {
   "cell_type": "code",
   "execution_count": 21,
   "metadata": {
    "scrolled": true
   },
   "outputs": [
    {
     "name": "stderr",
     "output_type": "stream",
     "text": [
      "\u001b[32m\u001b[1m   Resolving\u001b[22m\u001b[39m package versions...\n",
      "\u001b[32m\u001b[1m  No Changes\u001b[22m\u001b[39m to `C:\\Users\\X\\.julia\\environments\\v1.8\\Project.toml`\n",
      "\u001b[32m\u001b[1m  No Changes\u001b[22m\u001b[39m to `C:\\Users\\X\\.julia\\environments\\v1.8\\Manifest.toml`\n",
      "\u001b[32m\u001b[1m   Resolving\u001b[22m\u001b[39m package versions...\n",
      "\u001b[32m\u001b[1m  No Changes\u001b[22m\u001b[39m to `C:\\Users\\X\\.julia\\environments\\v1.8\\Project.toml`\n",
      "\u001b[32m\u001b[1m  No Changes\u001b[22m\u001b[39m to `C:\\Users\\X\\.julia\\environments\\v1.8\\Manifest.toml`\n",
      "\u001b[32m\u001b[1m   Resolving\u001b[22m\u001b[39m package versions...\n",
      "\u001b[32m\u001b[1m  No Changes\u001b[22m\u001b[39m to `C:\\Users\\X\\.julia\\environments\\v1.8\\Project.toml`\n",
      "\u001b[32m\u001b[1m  No Changes\u001b[22m\u001b[39m to `C:\\Users\\X\\.julia\\environments\\v1.8\\Manifest.toml`\n"
     ]
    }
   ],
   "source": [
    "import Pkg\n",
    "Pkg.add(\"HiGHS\")\n",
    "Pkg.add(\"JuMP\")\n",
    "Pkg.add(\"NamedArrays\")"
   ]
  },
  {
   "cell_type": "code",
   "execution_count": 22,
   "metadata": {},
   "outputs": [
    {
     "name": "stdout",
     "output_type": "stream",
     "text": [
      "Running HiGHS 1.4.0 [date: 1970-01-01, git hash: bcf6c0b22]\n",
      "Copyright (c) 2022 ERGO-Code under MIT licence terms\n",
      "Presolving model\n",
      "7 rows, 9 cols, 18 nonzeros\n",
      "5 rows, 7 cols, 13 nonzeros\n",
      "Presolve : Reductions: rows 5(-16); columns 7(-5); elements 13(-26)\n",
      "Solving the presolved LP\n",
      "Using EKK dual simplex solver - serial\n",
      "  Iteration        Objective     Infeasibilities num(sum)\n",
      "          0     0.0000000000e+00 Ph1: 0(0) 0s\n",
      "          5    -2.0000000000e+00 Pr: 0(0) 0s\n",
      "Solving the original LP from the solution after postsolve\n",
      "Model   status      : Optimal\n",
      "Simplex   iterations: 5\n",
      "Objective value     :  2.0000000000e+00\n",
      "HiGHS run time      :          0.00\n",
      "4×3 Named Matrix{Int64}\n",
      "Month ╲ Proj │ 1  2  3\n",
      "─────────────┼────────\n",
      "1            │ 2  0  6\n",
      "2            │ 2  0  6\n",
      "3            │ 4  4  0\n",
      "4            │ 0  6  0\n"
     ]
    }
   ],
   "source": [
    "using JuMP, HiGHS, NamedArrays\n",
    "m = Model()\n",
    "\n",
    "months = [1:4...]\n",
    "projs = [1:3...]\n",
    "needs = [8, 10, 12]\n",
    "\n",
    "@variable(m, x[months,projs] >= 0)\n",
    "\n",
    "@constraint(m, mon[i in months], sum(x[i,j] for j in projs) <= 8 )\n",
    "@constraint(m, pro[j in projs], sum(x[i,j] for i in months) == needs[j] )\n",
    "@constraint(m, sum(x[i,1] for i in [4:4...]) == 0)\n",
    "@constraint(m, sum(x[i,3] for i in [3:4...]) == 0)\n",
    "\n",
    "for i in months\n",
    "    for j in projs\n",
    "        @constraint(m, x[i,j] <= 6)\n",
    "    end\n",
    "end\n",
    "        \n",
    "@objective(m, Max, x[1,1])\n",
    "set_optimizer(m, HiGHS.Optimizer)\n",
    "optimize!(m)\n",
    "solution = NamedArray( Int[value(x[i,j]) for i in months, j in projs], (months,projs), (\"Month\",\"Proj\") )\n",
    "println(solution)"
   ]
  },
  {
   "cell_type": "markdown",
   "metadata": {},
   "source": [
    "## Stigler Diet"
   ]
  },
  {
   "cell_type": "markdown",
   "metadata": {},
   "source": [
    "### (a)\n",
    "\n",
    "* The objective: $$~~\\max_{r}~~sum(r_i),~~for~~i=1,...,77 $$\n",
    "    which $r_i$ is the daily cost of each food, $r$ is the vector.\n",
    "\n",
    "* The constraints: $$s.t.~~Ar\\geq b~~$$ \n",
    "\n",
    "    $A$ is a matrix contains the nutrient content of 77 foods for 9 nutrients per 1 dollar. $b$ is a vector contains the minimum daily allowance of 9 nutrients. The size of $A$ can be 9x77 when $r$ is 77x1 and $b$ is 9x1.\n",
    "\n",
    "* The decision variables is $r$, which contains the daily cost of 77 foods."
   ]
  },
  {
   "cell_type": "code",
   "execution_count": 13,
   "metadata": {},
   "outputs": [
    {
     "name": "stderr",
     "output_type": "stream",
     "text": [
      "\u001b[32m\u001b[1m   Resolving\u001b[22m\u001b[39m package versions...\n",
      "\u001b[32m\u001b[1m  No Changes\u001b[22m\u001b[39m to `C:\\Users\\X\\.julia\\environments\\v1.8\\Project.toml`\n",
      "\u001b[32m\u001b[1m  No Changes\u001b[22m\u001b[39m to `C:\\Users\\X\\.julia\\environments\\v1.8\\Manifest.toml`\n",
      "\u001b[32m\u001b[1m   Resolving\u001b[22m\u001b[39m package versions...\n",
      "\u001b[32m\u001b[1m  No Changes\u001b[22m\u001b[39m to `C:\\Users\\X\\.julia\\environments\\v1.8\\Project.toml`\n",
      "\u001b[32m\u001b[1m  No Changes\u001b[22m\u001b[39m to `C:\\Users\\X\\.julia\\environments\\v1.8\\Manifest.toml`\n"
     ]
    }
   ],
   "source": [
    "using Pkg\n",
    "Pkg.add(\"CSV\")\n",
    "Pkg.add(\"DataFrames\")\n"
   ]
  },
  {
   "cell_type": "code",
   "execution_count": 1,
   "metadata": {},
   "outputs": [
    {
     "name": "stdout",
     "output_type": "stream",
     "text": [
      "Foods:\n",
      "\n",
      "\n",
      "\n",
      "Nutrient Lower Bounds:\n",
      "\n",
      "Calories (1000) at least: 3.0\n",
      "Protein (g) at least: 70\n",
      "Calcium (g) at least: 0.8\n",
      "Iron (mg) at least: 12\n",
      "Vitamin A (1000 IU) at least: 5.0\n",
      "Thiamine (mg) at least: 1.8\n",
      "Riboflavin (mg) at least: 2.7\n",
      "Niacin (mg) at least: 18\n",
      "Ascorbic Acid (mg) at least: 75\n"
     ]
    }
   ],
   "source": [
    "# STARTER CODE FOR STIGLER'S DIET PROBLEM\n",
    "\n",
    "using NamedArrays, CSV, DataFrames\n",
    "\n",
    "# import Stigler's data set\n",
    "raw = CSV.read(\"stigler.csv\", DataFrame);\n",
    "(m,n) = size(raw)\n",
    "\n",
    "n_nutrients = 2:n      # columns containing nutrients\n",
    "n_foods = 3:m          # rows containing food names\n",
    "\n",
    "# list of food\n",
    "foods = raw[2:end,1]\n",
    "# list of nutrients\n",
    "nutrients = [string(names(raw)[i]) for i=2:length(names(raw))]\n",
    "\n",
    "# minimum required amount of each nutrient\n",
    "lower = Dict( zip(nutrients,raw[1,n_nutrients]) )\n",
    "\n",
    "# data[f,i] is the amount of nutrient i contained in food f \n",
    "dataraw = Matrix(values(raw[2:end,2:end]))\n",
    "data = NamedArray(dataraw,(foods,nutrients),(\"foods\",\"nutrients\"))\n",
    "                \n",
    "        \n",
    "# println(data[foods[1], nutrients[1]])\n",
    "println(\"Foods:\\n\")\n",
    "# for i in foods\n",
    "#     println(i)\n",
    "# end\n",
    "\n",
    "\n",
    "println(\"\\n\\nNutrient Lower Bounds:\\n\")\n",
    "for j in nutrients\n",
    "    println(j,\" at least: \",lower[j])\n",
    "end\n"
   ]
  },
  {
   "cell_type": "markdown",
   "metadata": {},
   "source": [
    "### (b)"
   ]
  },
  {
   "cell_type": "code",
   "execution_count": 4,
   "metadata": {},
   "outputs": [
    {
     "name": "stdout",
     "output_type": "stream",
     "text": [
      "Running HiGHS 1.4.0 [date: 1970-01-01, git hash: bcf6c0b22]\n",
      "Copyright (c) 2022 ERGO-Code under MIT licence terms\n",
      "Presolving model\n",
      "9 rows, 40 cols, 317 nonzeros\n",
      "9 rows, 27 cols, 213 nonzeros\n",
      "Presolve : Reductions: rows 9(-0); columns 27(-50); elements 213(-357)\n",
      "Solving the presolved LP\n",
      "Using EKK dual simplex solver - serial\n",
      "  Iteration        Objective     Infeasibilities num(sum)\n",
      "          0     0.0000000000e+00 Pr: 9(76.4375) 0s\n",
      "          5     1.0866227821e-01 Pr: 0(0) 0s\n",
      "Solving the original LP from the solution after postsolve\n",
      "Model   status      : Optimal\n",
      "Simplex   iterations: 5\n",
      "Objective value     :  1.0866227821e-01\n",
      "HiGHS run time      :          0.00\n",
      "The the optimal daily cost is 39.661731545466246\n"
     ]
    }
   ],
   "source": [
    "using JuMP, HiGHS\n",
    "m = Model()\n",
    "\n",
    "@variable(m, cost[foods] >= 0 ) \n",
    "\n",
    "@expression(m, day_cost, sum(cost[i] for i in foods))  \n",
    "@expression(m, day_nu[j in nutrients], sum(cost[i]*data[i,j] for i in foods))\n",
    "\n",
    "for i in nutrients\n",
    "    @constraint(m, day_nu[i] >= lower[i] ) \n",
    "end\n",
    "\n",
    "@objective(m, Min, day_cost)\n",
    "set_optimizer(m, HiGHS.Optimizer)\n",
    "optimize!(m)\n",
    "println(\"The the optimal daily cost is \", objective_value(m)*365)"
   ]
  },
  {
   "cell_type": "markdown",
   "metadata": {},
   "source": [
    "### (c)"
   ]
  },
  {
   "cell_type": "code",
   "execution_count": 7,
   "metadata": {},
   "outputs": [
    {
     "name": "stdout",
     "output_type": "stream",
     "text": [
      "Calories (1000): 1095.0\n",
      "Protein (g): 53805.9402539063\n",
      "Calcium (g): 292.0\n",
      "Iron (mg): 22070.426567133854\n",
      "Vitamin A (1000 IU): 1825.0\n",
      "Thiamine (mg): 1503.960163766097\n",
      "Riboflavin (mg): 985.5000000000001\n",
      "Niacin (mg): 9970.332955605238\n",
      "Ascorbic Acid (mg): 27375.0\n"
     ]
    }
   ],
   "source": [
    "for i in nutrients\n",
    "    println(i , \": \", value.(day_nu)[i]*365)\n",
    "end"
   ]
  },
  {
   "cell_type": "code",
   "execution_count": 84,
   "metadata": {},
   "outputs": [
    {
     "name": "stdout",
     "output_type": "stream",
     "text": [
      "Calories (1000): lower bound is 3.0, the amount of nutrient is 3.0, is dual (1 means yes) 1\n",
      "Protein (g): lower bound is 70, the amount of nutrient is 147.41353494220905, is dual (1 means yes) 0\n",
      "Calcium (g): lower bound is 0.8, the amount of nutrient is 0.8, is dual (1 means yes) 1\n",
      "Iron (mg): lower bound is 12, the amount of nutrient is 60.466922101736586, is dual (1 means yes) 0\n",
      "Vitamin A (1000 IU): lower bound is 5.0, the amount of nutrient is 5.0, is dual (1 means yes) 1\n",
      "Thiamine (mg): lower bound is 1.8, the amount of nutrient is 4.120438804838622, is dual (1 means yes) 0\n",
      "Riboflavin (mg): lower bound is 2.7, the amount of nutrient is 2.7, is dual (1 means yes) 1\n",
      "Niacin (mg): lower bound is 18, the amount of nutrient is 27.31598070028832, is dual (1 means yes) 0\n",
      "Ascorbic Acid (mg): lower bound is 75, the amount of nutrient is 75.0, is dual (1 means yes) 1\n"
     ]
    }
   ],
   "source": [
    "for i in nutrients\n",
    "    j = 0\n",
    "    if abs(value.(lower[i]) - value.(day_nu[i])) < 1e-2\n",
    "        j = 1\n",
    "    end\n",
    "    println(i,\": lower bound is \",value.(lower[i]),\", the amount of nutrient is \", value.(day_nu[i]), \", is dual (1 means yes) \", j )\n",
    "end"
   ]
  },
  {
   "cell_type": "markdown",
   "metadata": {},
   "source": [
    "### (d)"
   ]
  },
  {
   "cell_type": "code",
   "execution_count": 69,
   "metadata": {},
   "outputs": [
    {
     "name": "stdout",
     "output_type": "stream",
     "text": [
      "Running HiGHS 1.4.0 [date: 1970-01-01, git hash: bcf6c0b22]\n",
      "Copyright (c) 2022 ERGO-Code under MIT licence terms\n",
      "Presolving model\n",
      "9 rows, 40 cols, 315 nonzeros\n",
      "9 rows, 28 cols, 220 nonzeros\n",
      "Presolve : Reductions: rows 9(-2); columns 28(-49); elements 220(-352)\n",
      "Solving the presolved LP\n",
      "Using EKK dual simplex solver - serial\n",
      "  Iteration        Objective     Infeasibilities num(sum)\n",
      "          0     1.0000006980e-02 Pr: 9(75.9634) 0s\n",
      "          5     1.1194951710e-01 Pr: 0(0) 0s\n",
      "Solving the original LP from the solution after postsolve\n",
      "Model   status      : Optimal\n",
      "Simplex   iterations: 5\n",
      "Objective value     :  1.1194951710e-01\n",
      "HiGHS run time      :          0.00\n",
      "The the optimal daily cost is 40.86157374283626\n"
     ]
    }
   ],
   "source": [
    "using JuMP, HiGHS\n",
    "m = Model()\n",
    "\n",
    "@variable(m, cost[foods] >= 0 ) \n",
    "\n",
    "@expression(m, day_cost, sum(cost[i] for i in foods))  \n",
    "@expression(m, day_nu[j in nutrients], sum(cost[i]*data[i,j] for i in foods))\n",
    "\n",
    "for i in nutrients\n",
    "    @constraint(m, day_nu[i] >= lower[i] ) \n",
    "end\n",
    "@constraint(m, cost[\"Liver (Beef)\"] == 0 ) \n",
    "@constraint(m, cost[\"Milk\"] >= 0.01 ) \n",
    "\n",
    "@objective(m, Min, day_cost)\n",
    "set_optimizer(m, HiGHS.Optimizer)\n",
    "optimize!(m)\n",
    "println(\"The the optimal daily cost is \", objective_value(m)*365)"
   ]
  },
  {
   "cell_type": "code",
   "execution_count": 73,
   "metadata": {},
   "outputs": [
    {
     "name": "stdout",
     "output_type": "stream",
     "text": [
      "Wheat Flour (Enriched): the amount is 0.03569701410638522\n",
      "Milk: the amount is 0.01\n",
      "Evaporated Milk (can): the amount is 0.0021523432962831084\n",
      "Cabbage: the amount is 0.010991091937036563\n",
      "Spinach: the amount is 0.005114223881043092\n",
      "Navy Beans, Dried: the amount is 0.047994843882913016\n",
      "\n",
      "The annual cost is 40.86157374283626\n"
     ]
    }
   ],
   "source": [
    "for i in foods\n",
    "    if value(cost[i]) > 0\n",
    "        println(i,\": the amount is \", value.(cost[i]))\n",
    "    end\n",
    "end\n",
    "println(\"\\nThe annual cost is \", objective_value(m)*365)"
   ]
  },
  {
   "cell_type": "markdown",
   "metadata": {},
   "source": [
    "## Museum site planning\n",
    "\n",
    "### The mathematical model of this optimization problem:\n",
    "\n",
    "Since the boundaries can be represented in a two-dimensional coordinate system as $$x = 0,\\quad y = 0,\\quad y = 500,\\quad y+2/3x = 700,\\quad y-3x = -1500 $$\n",
    "The Chebyshev center problem can be formulated as the following linear program:\n",
    "\n",
    "* The objective: $\\max_{c,r} ~~r $\n",
    "\n",
    "* The constraints: $s.t.~~a_jc + ||a_j||r\\leq b_j,~~ for~~j=1,...,5$ \n",
    "\n",
    "    The vectors $a_j$ are the normal vector for each hyperplane and $b_j$ is the constant on the right hand side.\n",
    "    $a_1 = [-1~~0],\\\\\n",
    "a_2 = [0~~-1],\\\\\n",
    "a_3 = [0~~1],\\\\\n",
    "a_4 = [2/3~~1],\\\\\n",
    "a_5 = [3~~-1],\\\\ \n",
    "b = [0~~0~~500~~700~~1500].\\\\\n",
    "$\n",
    "\n",
    "* The decision variables are $c, r$, while $c$ is the position of the center of circle, $r$ is the distance between $c$ and each boundary. "
   ]
  },
  {
   "cell_type": "code",
   "execution_count": 6,
   "metadata": {},
   "outputs": [
    {
     "name": "stderr",
     "output_type": "stream",
     "text": [
      "\u001b[32m\u001b[1m   Resolving\u001b[22m\u001b[39m package versions...\n",
      "\u001b[32m\u001b[1m  No Changes\u001b[22m\u001b[39m to `C:\\Users\\X\\.julia\\environments\\v1.8\\Project.toml`\n",
      "\u001b[32m\u001b[1m  No Changes\u001b[22m\u001b[39m to `C:\\Users\\X\\.julia\\environments\\v1.8\\Manifest.toml`\n",
      "\u001b[32m\u001b[1m   Resolving\u001b[22m\u001b[39m package versions...\n",
      "\u001b[32m\u001b[1m  No Changes\u001b[22m\u001b[39m to `C:\\Users\\X\\.julia\\environments\\v1.8\\Project.toml`\n",
      "\u001b[32m\u001b[1m  No Changes\u001b[22m\u001b[39m to `C:\\Users\\X\\.julia\\environments\\v1.8\\Manifest.toml`\n"
     ]
    }
   ],
   "source": [
    "using Pkg\n",
    "Pkg.add(\"PyPlot\")\n",
    "Pkg.add(\"LinearAlgebra\")"
   ]
  },
  {
   "cell_type": "code",
   "execution_count": 10,
   "metadata": {},
   "outputs": [
    {
     "name": "stdout",
     "output_type": "stream",
     "text": [
      "Running HiGHS 1.4.0 [date: 1970-01-01, git hash: bcf6c0b22]\n",
      "Copyright (c) 2022 ERGO-Code under MIT licence terms\n",
      "Presolving model\n",
      "5 rows, 3 cols, 12 nonzeros\n",
      "5 rows, 3 cols, 12 nonzeros\n",
      "Presolve : Reductions: rows 5(-0); columns 3(-0); elements 12(-0) - Not reduced\n",
      "Problem not reduced by presolve: solving the LP\n",
      "Using EKK dual simplex solver - serial\n",
      "  Iteration        Objective     Infeasibilities num(sum)\n",
      "          0    -9.9999845409e-01 Ph1: 5(7.36413); Du: 1(0.999998) 0s\n",
      "          4     2.4402852679e+02 Pr: 0(0) 0s\n",
      "Model   status      : Optimal\n",
      "Simplex   iterations: 4\n",
      "Objective value     :  2.4402852679e+02\n",
      "HiGHS run time      :          0.00\n",
      "Center is: [244.02852679380192, 244.0285267938019]\n",
      "The maximum radius is: 169.02852679380186\n"
     ]
    }
   ],
   "source": [
    "using JuMP, HiGHS, LinearAlgebra\n",
    "\n",
    "A = [-1 0; 0 -1; 0 1; 2/3 1; 3 -1];\n",
    "b = [0; 0; 500; 700; 1500]\n",
    "\n",
    "m = Model()\n",
    "\n",
    "@variable(m, r >= 0)\n",
    "@variable(m, c[1:2]>=0)\n",
    "for i = 1:size(A,1)\n",
    "    @constraint(m, A[i,:]'*c + r*norm(A[i,:]) <= b[i])\n",
    "end\n",
    "@objective(m, Max, r)\n",
    "\n",
    "set_optimizer(m, HiGHS.Optimizer)\n",
    "optimize!(m)\n",
    "println(\"Center is: \", value.(c))\n",
    "println(\"The maximum radius is: \", value.(r-75))"
   ]
  },
  {
   "cell_type": "markdown",
   "metadata": {},
   "source": [
    "The center position is [244.02852679380192, 244.0285267938019].\n",
    "\n",
    "The optimal radius is 169.02852679380186."
   ]
  },
  {
   "cell_type": "code",
   "execution_count": 9,
   "metadata": {},
   "outputs": [
    {
     "data": {
      "image/png": "[encoded data removed]",
      "text/plain": [
       "Figure(PyObject <Figure size 600x500 with 1 Axes>)"
      ]
     },
     "metadata": {},
     "output_type": "display_data"
    }
   ],
   "source": [
    "using PyPlot\n",
    "\n",
    "# Defining a function to plot the outline of the museum area\n",
    "function plot_site(mode)\n",
    "    center = [244.02852679380192, 244.0285267938019]\n",
    "    radius = 169.02852679380186\n",
    "    theta = Array(0: 0.01: 2*pi+0.01)\n",
    "    x = radius * cos.(theta) .+ center[1]\n",
    "    y = radius * sin.(theta) .+ center[2]\n",
    "    plot(x, y, \"r-\")\n",
    "    \n",
    "    plot([0,0], [0,500], \"b-\")\n",
    "    plot([0,500], [0,0], \"b-\")\n",
    "    plot([500,600], [0,300],\"b-\")\n",
    "    plot([300,600], [500,300],\"b-\")\n",
    "    plot([0,300], [500,500],\"b-\")\n",
    "    axis(\"image\")\n",
    "    axis([-.5,6.5,-.5,5.5]*100)\n",
    "    grid()\n",
    "end\n",
    "\n",
    "figure(figsize=(6,5))\n",
    "plot_site(1)"
   ]
  },
  {
   "cell_type": "code",
   "execution_count": null,
   "metadata": {},
   "outputs": [],
   "source": []
  }
 ],
 "metadata": {
  "kernelspec": {
   "display_name": "Julia 1.8.5",
   "language": "julia",
   "name": "julia-1.8"
  },
  "language_info": {
   "file_extension": ".jl",
   "mimetype": "application/julia",
   "name": "julia",
   "version": "1.8.5"
  }
 },
 "nbformat": 4,
 "nbformat_minor": 1
}
