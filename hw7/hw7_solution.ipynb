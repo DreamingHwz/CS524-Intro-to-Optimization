{
 "cells": [
  {
   "cell_type": "markdown",
   "metadata": {},
   "source": [
    "## HW7 S23 - Starter Code"
   ]
  },
  {
   "cell_type": "markdown",
   "metadata": {},
   "source": [
    "## Q1: NFL Regression"
   ]
  },
  {
   "cell_type": "code",
   "execution_count": 2,
   "metadata": {},
   "outputs": [],
   "source": [
    "using DataFrames, DelimitedFiles\n",
    "using PyPlot, JuMP, HiGHS, Ipopt"
   ]
  },
  {
   "cell_type": "code",
   "execution_count": 3,
   "metadata": {},
   "outputs": [
    {
     "data": {
      "text/plain": [
       "31"
      ]
     },
     "execution_count": 3,
     "metadata": {},
     "output_type": "execute_result"
    }
   ],
   "source": [
    "teams = [ \"49ers\", \"falcons\", \"ravens\", \"steelers\", \"bears\", \"vikings\", \"lions\", \"saints\", \"bucs\", \"patriots\", \"jets\", \"packers\", \"chargers\", \"raiders\", \"cardinals\", \"giants\", \"panthers\", \"redskins\", \"jaguars\", \"browns\", \"colts\", \"chiefs\", \"eagles\", \"cowboys\", \"seahawks\", \"dolphins\",\"titans\", \"bills\", \"broncos\", \"rams\", \"bengals\" ]\n",
    "teamIDs = Dict( zip( teams, Array(1:31) ) )\n",
    "data = readdlm( joinpath(@__DIR__, \"nfl.inc\" ), header=false)\n",
    "results_table=Array{Int16,2}(undef, size(data,1),4)\n",
    "for i in 1:size( data, 1 )\n",
    "    base = data[ i, 1 ]\n",
    "    res = data[ i, 2 ]\n",
    "    splits = split( base, \".\" )\n",
    "    week = parse( Int64, splits[1] )\n",
    "    away = splits[2]\n",
    "    home = splits[3]\n",
    "    aid = teamIDs[away]\n",
    "    hid = teamIDs[home]\n",
    "    results_table[i,1]=week\n",
    "    results_table[i,2]=aid\n",
    "    results_table[i,3]=hid\n",
    "    results_table[i,4]=res\n",
    "end\n",
    "# print(results_table)\n",
    "\n",
    "\n",
    "n_terms=size(results_table,1)\n",
    "n_teams=31"
   ]
  },
  {
   "cell_type": "code",
   "execution_count": 21,
   "metadata": {},
   "outputs": [
    {
     "name": "stdout",
     "output_type": "stream",
     "text": [
      "Running HiGHS 1.4.0 [date: 1970-01-01, git hash: bcf6c0b22]\n",
      "Copyright (c) 2022 ERGO-Code under MIT licence terms\n",
      "0, 29333.000000, 31, 0.000000, 0.000000, 0, 0.000000, 0.000000\n",
      "3, 17134.840804, 31, 0.000000, 0.000000, 0, 0.000000, 1.000000\n",
      "Model   status      : Optimal\n",
      "QP ASM    iterations: 3\n",
      "Objective value     :  1.7134840737e+04\n",
      "HiGHS run time      :          0.00\n",
      "49ers : -7.4447953373501505\n",
      "falcons : -8.16224547202938\n",
      "ravens : 4.840011659429398\n",
      "steelers : 3.1099535124758995\n",
      "bears : -6.193788456506018\n",
      "vikings : 0.9390918876671944\n",
      "lions : 2.354697530270662\n",
      "saints : 0.487070791469117\n",
      "bucs : 9.242807323623529\n",
      "patriots : 2.423993496977115\n",
      "jets : 4.770665202392323\n",
      "packers : -0.6581268257660479\n",
      "chargers : -6.289431917134701\n",
      "raiders : 7.964138099652889\n",
      "cardinals : -14.364741602678672\n",
      "giants : 2.438494881805434\n",
      "panthers : 0.2763420319238483\n",
      "redskins : 1.8445897427877407\n",
      "jaguars : -5.741125251530226\n",
      "browns : -15.102694387588244\n",
      "colts : 7.8157988686033875\n",
      "chiefs : 6.581879367904487\n",
      "eagles : 2.6114502616705457\n",
      "cowboys : -4.3576225968048705\n",
      "seahawks : -1.3183229158451977\n",
      "dolphins : 4.386500259923016\n",
      "titans : 8.145583282397332\n",
      "bills : 1.932251815064968\n",
      "broncos : 5.056835190978192\n",
      "rams : 5.130971873029371\n",
      "bengals : -12.72023231681294\n",
      "Home field advantage: 1.9144730252546178\n"
     ]
    }
   ],
   "source": [
    "# Solution for (a)\n",
    "\n",
    "# your code here\n",
    "\n",
    "m = Model(HiGHS.Optimizer) \n",
    "\n",
    "@variable(m, ratings[1:n_teams])\n",
    "@variable(m, home_field)\n",
    "@constraint(m, sum(ratings[i] for i in 1:n_teams) == 0)\n",
    "\n",
    "@expression(m, pred[i in 1:n_terms], ratings[results_table[i, 3]]-ratings[results_table[i, 2]]+home_field)\n",
    "@objective(m, Min, sum((pred[i] - results_table[i, 4])^2 for i in 1:n_terms))\n",
    "    \n",
    "optimize!(m)\n",
    "ratingsa = value.(ratings)\n",
    "hfa = value(home_field)\n",
    "\n",
    "# print results\n",
    "for i=1:n_teams\n",
    "    println(teams[i],\" : \",value(ratings[i]))\n",
    "end\n",
    "    println(\"Home field advantage: \", value(home_field))"
   ]
  },
  {
   "cell_type": "markdown",
   "metadata": {},
   "source": [
    "#### comment:\n",
    "The differences in the ratings between these two methods are their values are not exactly the same, though they have similar trend. The ratings (predicted outcomes) with sum-of-squares is more closer to the actual outcomes."
   ]
  },
  {
   "cell_type": "code",
   "execution_count": 13,
   "metadata": {},
   "outputs": [
    {
     "name": "stdout",
     "output_type": "stream",
     "text": [
      "Running HiGHS 1.4.0 [date: 1970-01-01, git hash: bcf6c0b22]\n",
      "Copyright (c) 2022 ERGO-Code under MIT licence terms\n",
      "Presolving model\n",
      "287 rows, 175 cols, 1175 nonzeros\n",
      "287 rows, 175 cols, 1175 nonzeros\n",
      "Presolve : Reductions: rows 287(-0); columns 175(-0); elements 1175(-0) - Not reduced\n",
      "Problem not reduced by presolve: solving the LP\n",
      "Using EKK dual simplex solver - serial\n",
      "  Iteration        Objective     Infeasibilities num(sum)\n",
      "          0    -1.4300000000e+05 Ph1: 144(317000); Du: 143(143) 0s\n",
      "        305     1.1745714286e+03 Pr: 0(0) 0s\n",
      "Model   status      : Optimal\n",
      "Simplex   iterations: 305\n",
      "Objective value     :  1.1745714286e+03\n",
      "HiGHS run time      :          0.01\n",
      "49ers : -7.073732718894009\n",
      "falcons : -6.073732718894009\n",
      "ravens : -0.6451612903225805\n",
      "steelers : 3.497695852534562\n",
      "bears : -3.7880184331797224\n",
      "vikings : 0.35483870967741993\n",
      "lions : 4.35483870967742\n",
      "saints : -0.7880184331797242\n",
      "bucs : 6.069124423963132\n",
      "patriots : -0.07373271889401067\n",
      "jets : 4.0691244239631335\n",
      "packers : -1.0737327188940098\n",
      "chargers : -2.930875576036867\n",
      "raiders : 5.069124423963135\n",
      "cardinals : -12.930875576036867\n",
      "giants : 2.0691244239631335\n",
      "panthers : -1.359447004608295\n",
      "redskins : 0.4976958525345623\n",
      "jaguars : -6.788018433179722\n",
      "browns : -19.788018433179722\n",
      "colts : 7.211981566820274\n",
      "chiefs : 5.783410138248847\n",
      "eagles : -0.9308755760368652\n",
      "cowboys : -2.7880184331797224\n",
      "seahawks : -0.07373271889401067\n",
      "dolphins : 5.783410138248847\n",
      "titans : 7.640552995391705\n",
      "bills : 4.069124423963132\n",
      "broncos : 12.211981566820276\n",
      "rams : 8.783410138248849\n",
      "bengals : -10.359447004608295\n",
      "Home field advantage: 1.1428571428571428\n"
     ]
    }
   ],
   "source": [
    "# Solution for (b)\n",
    "\n",
    "# your code here\n",
    "\n",
    "m = Model(HiGHS.Optimizer) \n",
    "\n",
    "@variable(m, ratings[1:n_teams])\n",
    "@variable(m, t[1:n_terms])\n",
    "@variable(m, home_field)\n",
    "\n",
    "@constraint(m, sum(ratings[i] for i in 1:n_teams) == 0)\n",
    "\n",
    "@expression(m, pred[i in 1:n_terms], ratings[results_table[i, 3]]-ratings[results_table[i, 2]]+home_field)\n",
    "for i in 1:n_terms\n",
    "    @constraint(m, -t[i] <= pred[i] - results_table[i, 4])\n",
    "    @constraint(m, pred[i] - results_table[i, 4] <= t[i])\n",
    "end\n",
    "@objective(m, Min, sum(t[i] for i in 1:n_terms))\n",
    "\n",
    "optimize!(m)\n",
    "ratingsb = value.(ratings)\n",
    "hfb = value(home_field)\n",
    "\n",
    "for i=1:n_teams\n",
    "    println(teams[i],\" : \",value(ratings[i]))\n",
    "end\n",
    "println(\"Home field advantage: \", value(home_field))"
   ]
  },
  {
   "cell_type": "code",
   "execution_count": 15,
   "metadata": {},
   "outputs": [
    {
     "name": "stdout",
     "output_type": "stream",
     "text": [
      "Running HiGHS 1.4.0 [date: 1970-01-01, git hash: bcf6c0b22]\n",
      "Copyright (c) 2022 ERGO-Code under MIT licence terms\n",
      "0, 29333.000000, 61, 0.000000, 0.000000, 0, 0.000000, 0.000000\n",
      "3, 13995.507564, 61, 0.000000, 0.000000, 0, 0.000000, 0.948704\n",
      "Model   status      : Optimal\n",
      "QP ASM    iterations: 3\n",
      "Objective value     :  1.3995507351e+04\n",
      "HiGHS run time      :          0.00\n",
      "49ers : -6.640258153096028   home field advantage: -2.8136208323501988\n",
      "falcons : -11.99643159634961   home field advantage: 8.16298557145395\n",
      "ravens : 4.884164738313829   home field advantage: -0.4056746536817149\n",
      "steelers : 5.542330180118024   home field advantage: -7.004297051004981\n",
      "bears : -5.032693481639377   home field advantage: 3.1883166003828496\n",
      "vikings : -3.2499911433372612   home field advantage: 7.991445632878648\n",
      "lions : 13.161143407657567   home field advantage: -15.165670267176484\n",
      "saints : 2.0868085304771355   home field advantage: 5.097232265047393\n",
      "bucs : 5.417221622167478   home field advantage: 11.491344772388363\n",
      "patriots : 10.967413337492966   home field advantage: -11.92252033576743\n",
      "jets : 11.755807370109686   home field advantage: -9.392782945089687\n",
      "packers : 3.3087804382391712   home field advantage: -1.663292372503217\n",
      "chargers : -5.562782548377882   home field advantage: 0.42311569694428575\n",
      "raiders : 7.535907400792645   home field advantage: 1.5271151858119583\n",
      "cardinals : -23.757724198528408   home field advantage: 15.72036974947397\n",
      "giants : 6.729251543956879   home field advantage: -6.527924384674569\n",
      "panthers : -0.17929747107994243   home field advantage: 1.2932246826204898\n",
      "redskins : 2.170586959025697   home field advantage: -2.03285375874684\n",
      "jaguars : -3.0790846760826485   home field advantage: -3.8011428818845028\n",
      "browns : -15.182747386285849   home field advantage: 2.574481257925596\n",
      "colts : 7.050903414378867   home field advantage: 10.345441323768249\n",
      "chiefs : 5.242026259890901   home field advantage: 4.098804742452021\n",
      "eagles : 6.394575653478132   home field advantage: -4.820858940919306\n",
      "cowboys : -1.0021301032424041   home field advantage: -8.018492640083677\n",
      "seahawks : -8.905471236488545   home field advantage: 13.194357944993165\n",
      "dolphins : -0.6692329319731841   home field advantage: 14.521953166255987\n",
      "titans : 4.568707113592633   home field advantage: 9.78992359100412\n",
      "bills : -0.7494768508171095   home field advantage: 8.173759926668009\n",
      "broncos : 3.724087920640156   home field advantage: 4.53347717637848\n",
      "rams : 3.5855981863497695   home field advantage: 4.48346539916291\n",
      "bengals : -18.11799229938329   home field advantage: 7.382988116410922\n"
     ]
    }
   ],
   "source": [
    "# Solution for (c)\n",
    "\n",
    "# your code here\n",
    "\n",
    "m = Model(HiGHS.Optimizer) \n",
    "\n",
    "@variable(m, ratings[1:n_teams])\n",
    "@variable(m, home_field[1:n_teams])\n",
    "@constraint(m, sum(ratings[i] for i in 1:n_teams) == 0)\n",
    "\n",
    "@expression(m, pred[i in 1:n_terms], ratings[results_table[i, 3]]-ratings[results_table[i, 2]]+home_field[results_table[i, 3]])\n",
    "@objective(m, Min, sum((pred[i] - results_table[i, 4])^2 for i in 1:n_terms))\n",
    "    \n",
    "optimize!(m)\n",
    "\n",
    "# print results:\n",
    "for i=1:n_teams\n",
    "    println(teams[i],\" : \",value(ratings[i]),\"   home field advantage: \", value(home_field[i]))\n",
    "end\n",
    "   "
   ]
  },
  {
   "cell_type": "markdown",
   "metadata": {},
   "source": [
    "**solution (d)** If the Dolphins were to visit the Seahawks, the expected winner according to the sum-of-squares model would be Dolphins with margin 3.7903501505135955. Using the l_1 model, the expected winner would be Dolphins with margin 4.714285714285715."
   ]
  },
  {
   "cell_type": "code",
   "execution_count": 8,
   "metadata": {},
   "outputs": [
    {
     "name": "stdout",
     "output_type": "stream",
     "text": [
      "-3.7903501505135955\n",
      "-4.714285714285715\n"
     ]
    }
   ],
   "source": [
    "findall(x->x==\"dolphins\", teams) # 26\n",
    "findall(x->x==\"seahawks\", teams) # 25\n",
    "\n",
    "println(ratingsa[25]-ratingsa[26]+hfa)\n",
    "println(ratingsb[25]-ratingsb[26]+hfb)"
   ]
  },
  {
   "cell_type": "markdown",
   "metadata": {},
   "source": [
    "## Q2: Huber Loss"
   ]
  },
  {
   "cell_type": "code",
   "execution_count": 7,
   "metadata": {},
   "outputs": [],
   "source": [
    "# Q2 Starter Code\n",
    "\n",
    "using PyPlot, JuMP, Ipopt\n",
    "\n",
    "\n",
    "y = [6.31, 3.78, 24, 1.71, 2.99, 4.53, 2.11, 3.88, 4.67, 4.25, 2.06, 23, 1.58, 2.17, 0.02];\n",
    "x = 1:15;\n",
    "\n"
   ]
  },
  {
   "cell_type": "markdown",
   "metadata": {},
   "source": [
    "### a)"
   ]
  },
  {
   "cell_type": "code",
   "execution_count": 8,
   "metadata": {},
   "outputs": [
    {
     "name": "stdout",
     "output_type": "stream",
     "text": [
      "Running HiGHS 1.4.0 [date: 1970-01-01, git hash: bcf6c0b22]\n",
      "Copyright (c) 2022 ERGO-Code under MIT licence terms\n",
      "0, 1262.316800, 2, 0.000000, 0.000000, 0, 0.000000, 0.000000\n",
      "3, 733.344790, 2, 0.000000, 0.000000, 0, 0.000000, 1.000000\n",
      "Model   status      : Optimal\n",
      "QP ASM    iterations: 3\n",
      "Objective value     :  7.3334478714e+02\n",
      "HiGHS run time      :          0.00\n"
     ]
    }
   ],
   "source": [
    "m = Model(HiGHS.Optimizer) \n",
    "\n",
    "@variable(m, a1)\n",
    "@variable(m, b1)\n",
    "\n",
    "@expression(m, pred[i in x], a1 * i + b1)\n",
    "@objective(m, Min, sum((pred[i] - y[i])^2 for i in x))\n",
    "    \n",
    "optimize!(m)"
   ]
  },
  {
   "cell_type": "markdown",
   "metadata": {},
   "source": [
    "##### if without outliers:"
   ]
  },
  {
   "cell_type": "code",
   "execution_count": 10,
   "metadata": {},
   "outputs": [
    {
     "name": "stdout",
     "output_type": "stream",
     "text": [
      "Running HiGHS 1.4.0 [date: 1970-01-01, git hash: bcf6c0b22]\n",
      "Copyright (c) 2022 ERGO-Code under MIT licence terms\n",
      "0, 1309.316800, 2, 0.000000, 0.000000, 0, 0.000000, 0.000000\n",
      "3, 768.378445, 2, 0.000000, 0.000000, 0, 0.000000, 1.000000\n",
      "Model   status      : Optimal\n",
      "QP ASM    iterations: 3\n",
      "Objective value     :  7.6837844190e+02\n",
      "HiGHS run time      :          0.00\n"
     ]
    }
   ],
   "source": [
    "m = Model(HiGHS.Optimizer) \n",
    "\n",
    "@variable(m, a2)\n",
    "@variable(m, b2)\n",
    "\n",
    "@expression(m, pred[i in x], a2 * i + b2)\n",
    "@objective(m, Min, sum((pred[i] - y[i])^2 for i in x)-(pred[3]-y[3])-(pred[12]-y[12]))\n",
    "    \n",
    "optimize!(m)"
   ]
  },
  {
   "cell_type": "code",
   "execution_count": 11,
   "metadata": {},
   "outputs": [
    {
     "data": {
      "image/png": "[encoded data removed]",
      "text/plain": [
       "Figure(PyObject <Figure size 1000x500 with 1 Axes>)"
      ]
     },
     "metadata": {},
     "output_type": "display_data"
    }
   ],
   "source": [
    "a1 = value(a1)\n",
    "b1 = value(b1)\n",
    "a2 = value(a2)\n",
    "b2 = value(b2)\n",
    "\n",
    "using PyPlot\n",
    "figure(figsize = (10,5))\n",
    "scatter(x,y,label=\"data\",color = \"black\")\n",
    "scatter([x[3],x[12]],[y[3],y[12]],label=\"outliers\",color = \"red\") # outliers\n",
    "plot(x, a1*x .+ b1,label=\"l2 with outliers\")\n",
    "plot(x, a2*x .+ b2,label=\"l2 without outliers\")\n",
    "# plot(x, a3*x .+ b3,label=\"l1 with outliers\")\n",
    "# plot(x, a5*x .+ b5,label=\"Huber with outliers\")\n",
    "legend(loc =\"best\")\n",
    "ylabel(\"y\")\n",
    "xlabel(\"x\")\n",
    ";"
   ]
  },
  {
   "cell_type": "markdown",
   "metadata": {},
   "source": [
    "### b)\n",
    "\n",
    "The l1 cost handle outliers better than the least squares. It is more fitted to the good data points, because if lines are same, the cost of outliers with l1 norm is smaller than the cost of outliers with least squares. To minimize the cost, the line with least squares will be farther from non-outliers, nearer to outliers, compared to the line with l1 cost. So the line of l1 cost better fit the non-outliers."
   ]
  },
  {
   "cell_type": "code",
   "execution_count": 26,
   "metadata": {},
   "outputs": [
    {
     "name": "stdout",
     "output_type": "stream",
     "text": [
      "Running HiGHS 1.4.0 [date: 1970-01-01, git hash: bcf6c0b22]\n",
      "Copyright (c) 2022 ERGO-Code under MIT licence terms\n",
      "Presolving model\n",
      "30 rows, 17 cols, 90 nonzeros\n",
      "30 rows, 17 cols, 90 nonzeros\n",
      "Presolve : Reductions: rows 30(-0); columns 17(-0); elements 90(-0) - Not reduced\n",
      "Problem not reduced by presolve: solving the LP\n",
      "Using EKK dual simplex solver - serial\n",
      "  Iteration        Objective     Infeasibilities num(sum)\n",
      "          0     0.0000000000e+00 Pr: 15(72.555); Du: 0(1.12313e-12) 0s\n",
      "         18     5.4030000000e+01 Pr: 0(0) 0s\n",
      "Model   status      : Optimal\n",
      "Simplex   iterations: 18\n",
      "Objective value     :  5.4030000000e+01\n",
      "HiGHS run time      :          0.01\n"
     ]
    }
   ],
   "source": [
    "m = Model(HiGHS.Optimizer) \n",
    "\n",
    "@variable(m, a3)\n",
    "@variable(m, b3)\n",
    "@variable(m, t[x] >= 0)\n",
    "\n",
    "@expression(m, pred[i in x], a3 * i + b3)\n",
    "@constraint(m, -t .<= pred - y)\n",
    "@constraint(m, pred - y .<= t)\n",
    "\n",
    "@objective(m, Min, sum(t[i] for i in x))\n",
    "    \n",
    "optimize!(m)"
   ]
  },
  {
   "cell_type": "code",
   "execution_count": 27,
   "metadata": {
    "scrolled": true
   },
   "outputs": [
    {
     "data": {
      "image/png": "[encoded data removed]",
      "text/plain": [
       "Figure(PyObject <Figure size 1000x500 with 1 Axes>)"
      ]
     },
     "metadata": {},
     "output_type": "display_data"
    }
   ],
   "source": [
    "a3 = value(a3)\n",
    "b3 = value(b3)\n",
    "\n",
    "using PyPlot\n",
    "figure(figsize = (10,5))\n",
    "scatter(x,y,label=\"data\",color = \"black\")\n",
    "scatter([x[3],x[12]],[y[3],y[12]],label=\"outliers\",color = \"red\") # outliers\n",
    "# plot(x, a1*x .+ b1,label=\"l2 with outliers\")\n",
    "plot(x, a3*x .+ b3,label=\"l1 with outliers\")\n",
    "# plot(x, a5*x .+ b5,label=\"Huber with outliers\")\n",
    "legend(loc =\"best\")\n",
    "ylabel(\"y\")\n",
    "xlabel(\"x\")\n",
    ";"
   ]
  },
  {
   "cell_type": "markdown",
   "metadata": {},
   "source": [
    "### c)"
   ]
  },
  {
   "cell_type": "code",
   "execution_count": 28,
   "metadata": {},
   "outputs": [
    {
     "name": "stdout",
     "output_type": "stream",
     "text": [
      "\n",
      "******************************************************************************\n",
      "This program contains Ipopt, a library for large-scale nonlinear optimization.\n",
      " Ipopt is released as open source code under the Eclipse Public License (EPL).\n",
      "         For more information visit https://github.com/coin-or/Ipopt\n",
      "******************************************************************************\n",
      "\n",
      "This is Ipopt version 3.14.4, running with linear solver MUMPS 5.5.1.\n",
      "\n",
      "Number of nonzeros in equality constraint Jacobian...:        0\n",
      "Number of nonzeros in inequality constraint Jacobian.:      135\n",
      "Number of nonzeros in Lagrangian Hessian.............:       15\n",
      "\n",
      "Total number of variables............................:       47\n",
      "                     variables with only lower bounds:       30\n",
      "                variables with lower and upper bounds:        0\n",
      "                     variables with only upper bounds:       15\n",
      "Total number of equality constraints.................:        0\n",
      "Total number of inequality constraints...............:       45\n",
      "        inequality constraints with only lower bounds:        0\n",
      "   inequality constraints with lower and upper bounds:        0\n",
      "        inequality constraints with only upper bounds:       45\n",
      "\n",
      "iter    objective    inf_pr   inf_du lg(mu)  ||d||  lg(rg) alpha_du alpha_pr  ls\n",
      "   0  2.9999970e-01 2.40e+01 6.00e-01  -1.0 0.00e+00    -  0.00e+00 0.00e+00   0\n",
      "   1  3.2936248e-01 2.39e+01 7.03e-01  -1.0 2.04e+01    -  1.01e-02 1.12e-02h  1\n",
      "   2  4.2662057e-01 2.37e+01 1.94e+00  -1.0 2.02e+01    -  1.06e-03 9.57e-03f  1\n",
      "   3  1.1973574e+00 2.32e+01 2.00e+00  -1.0 2.06e+01    -  9.10e-03 2.33e-02h  1\n",
      "   4  3.2097257e+00 2.24e+01 3.32e+00  -1.0 1.99e+01    -  5.83e-03 3.15e-02h  1\n",
      "   5  1.1450170e+01 2.00e+01 4.22e+00  -1.0 1.97e+01    -  1.13e-02 1.08e-01h  1\n",
      "   6  2.4528835e+01 1.63e+01 3.42e+00  -1.0 1.76e+01    -  1.40e-01 1.84e-01h  1\n",
      "   7  2.9544931e+01 1.51e+01 3.13e+00  -1.0 1.50e+01    -  2.25e-02 7.55e-02h  1\n",
      "   8  4.3401131e+01 1.16e+01 2.36e+00  -1.0 1.33e+01    -  1.32e-01 2.28e-01h  1\n",
      "   9  6.1699864e+01 7.60e+00 1.46e+00  -1.0 1.04e+01    -  1.25e-01 3.46e-01h  1\n",
      "iter    objective    inf_pr   inf_du lg(mu)  ||d||  lg(rg) alpha_du alpha_pr  ls\n",
      "  10  8.2639402e+01 3.24e+00 6.88e-01  -1.0 6.77e+00    -  3.22e-01 5.70e-01h  1\n",
      "  11  9.9879552e+01 0.00e+00 5.66e-01  -1.0 2.82e+00    -  4.99e-01 1.00e+00h  1\n",
      "  12  9.9750875e+01 0.00e+00 1.29e-01  -1.0 5.47e-01    -  7.72e-01 1.00e+00f  1\n",
      "  13  9.9832905e+01 0.00e+00 1.00e-06  -1.0 5.85e-01    -  1.00e+00 1.00e+00f  1\n",
      "  14  9.6390393e+01 0.00e+00 4.32e-02  -2.5 2.66e-01    -  9.61e-01 7.88e-01f  1\n",
      "  15  9.5656653e+01 0.00e+00 2.83e-08  -2.5 1.38e-01    -  1.00e+00 1.00e+00f  1\n",
      "  16  9.5516457e+01 0.00e+00 1.50e-09  -3.8 5.35e-02    -  1.00e+00 1.00e+00f  1\n",
      "  17  9.5508268e+01 0.00e+00 1.50e-09  -3.8 1.84e-02    -  1.00e+00 1.00e+00f  1\n",
      "  18  9.5500579e+01 0.00e+00 1.84e-11  -5.7 9.77e-03    -  1.00e+00 1.00e+00f  1\n",
      "  19  9.5500001e+01 0.00e+00 1.84e-11  -5.7 4.65e-03    -  1.00e+00 1.00e+00f  1\n",
      "iter    objective    inf_pr   inf_du lg(mu)  ||d||  lg(rg) alpha_du alpha_pr  ls\n",
      "  20  9.5499856e+01 0.00e+00 1.84e-11  -5.7 2.28e-03    -  1.00e+00 1.00e+00f  1\n",
      "  21  9.5499749e+01 0.00e+00 2.53e-14  -8.6 1.24e-03    -  1.00e+00 1.00e+00f  1\n",
      "  22  9.5499739e+01 0.00e+00 2.84e-14  -8.6 6.17e-04    -  1.00e+00 1.00e+00f  1\n",
      "  23  9.5499736e+01 0.00e+00 2.53e-14  -8.6 3.08e-04    -  1.00e+00 1.00e+00f  1\n",
      "  24  9.5499736e+01 0.00e+00 2.52e-14  -8.6 1.53e-04    -  1.00e+00 1.00e+00f  1\n",
      "  25  9.5499736e+01 0.00e+00 2.52e-14  -8.6 7.46e-05    -  1.00e+00 1.00e+00h  1\n",
      "  26  9.5499736e+01 0.00e+00 1.07e-14  -9.0 3.85e-05    -  1.00e+00 1.00e+00h  1\n",
      "\n",
      "Number of Iterations....: 26\n",
      "\n",
      "                                   (scaled)                 (unscaled)\n",
      "Objective...............:   9.5499735609784139e+01    9.5499735609784139e+01\n",
      "Dual infeasibility......:   1.0658141036401503e-14    1.0658141036401503e-14\n",
      "Constraint violation....:   0.0000000000000000e+00    0.0000000000000000e+00\n",
      "Variable bound violation:   9.2814745774690440e-09    9.2814745774690440e-09\n",
      "Complementarity.........:   3.8759298670639868e-09    3.8759298670639868e-09\n",
      "Overall NLP error.......:   3.8759298670639868e-09    3.8759298670639868e-09\n",
      "\n",
      "\n",
      "Number of objective function evaluations             = 27\n",
      "Number of objective gradient evaluations             = 27\n",
      "Number of equality constraint evaluations            = 0\n",
      "Number of inequality constraint evaluations          = 27\n",
      "Number of equality constraint Jacobian evaluations   = 0\n",
      "Number of inequality constraint Jacobian evaluations = 1\n",
      "Number of Lagrangian Hessian evaluations             = 1\n",
      "Total seconds in IPOPT                               = 0.226\n",
      "\n",
      "EXIT: Optimal Solution Found.\n"
     ]
    }
   ],
   "source": [
    "m = Model(Ipopt.Optimizer) \n",
    "M = 1\n",
    "\n",
    "@variable(m, a5)\n",
    "@variable(m, b5)\n",
    "@variable(m, w[x] .<= M)\n",
    "@variable(m, v[x] .>= 0)\n",
    "@variable(m, t[x] >= 0)\n",
    "\n",
    "@expression(m, pred[i in x], a5 * i + b5)\n",
    "@constraint(m, -t .<= pred - y)\n",
    "@constraint(m, pred - y .<= t)\n",
    "\n",
    "@constraint(m, t .<= w + v)\n",
    "\n",
    "@objective(m, Min, sum(w[i]^2 + 2 * M * v[i] for i in x))\n",
    "    \n",
    "optimize!(m)"
   ]
  },
  {
   "cell_type": "code",
   "execution_count": 29,
   "metadata": {
    "scrolled": true
   },
   "outputs": [
    {
     "data": {
      "image/png": "[encoded data removed]",
      "text/plain": [
       "Figure(PyObject <Figure size 1000x500 with 1 Axes>)"
      ]
     },
     "metadata": {},
     "output_type": "display_data"
    }
   ],
   "source": [
    "a5 = value(a5)\n",
    "b5 = value(b5)\n",
    "\n",
    "using PyPlot\n",
    "figure(figsize = (10,5))\n",
    "scatter(x,y,label=\"data\",color = \"black\")\n",
    "scatter([x[3],x[12]],[y[3],y[12]],label=\"outliers\",color = \"red\") # outliers\n",
    "# plot(x, a1*x .+ b1,label=\"l2 with outliers\")\n",
    "# plot(x, a3*x .+ b3,label=\"l1 with outliers\")\n",
    "plot(x, a5*x .+ b5,label=\"Huber with outliers\")\n",
    "legend(loc =\"best\")\n",
    "ylabel(\"y\")\n",
    "xlabel(\"x\")\n",
    ";"
   ]
  },
  {
   "cell_type": "code",
   "execution_count": 30,
   "metadata": {},
   "outputs": [
    {
     "name": "stdout",
     "output_type": "stream",
     "text": [
      "a = -0.2811079890443627\n",
      "b = 5.738120548352265\n"
     ]
    }
   ],
   "source": [
    "println(\"a = \", a5)\n",
    "println(\"b = \", b5)"
   ]
  },
  {
   "cell_type": "markdown",
   "metadata": {},
   "source": [
    "### d)\n",
    "The Huber loss technique gives the best fit to  the non-outlier data."
   ]
  },
  {
   "cell_type": "code",
   "execution_count": 75,
   "metadata": {
    "scrolled": true
   },
   "outputs": [
    {
     "data": {
      "image/png": "[encoded data removed]",
      "text/plain": [
       "Figure(PyObject <Figure size 1000x500 with 1 Axes>)"
      ]
     },
     "metadata": {},
     "output_type": "display_data"
    }
   ],
   "source": [
    "# Make all the plots\n",
    "\n",
    "# fill in random numbers - replace with the values of  (a,b) found in parts (a), (b), and (c)\n",
    "# a1,  a3, a5,  b1, b3, b5 = rand(1,6);\n",
    "\n",
    "using PyPlot\n",
    "figure(figsize = (10,5))\n",
    "scatter(x,y,label=\"data\",color = \"black\")\n",
    "scatter([x[3],x[12]],[y[3],y[12]],label=\"outliers\",color = \"red\") # outliers\n",
    "plot(x, a1*x .+ b1,label=\"l2 with outliers\")\n",
    "plot(x, a3*x .+ b3,label=\"l1 with outliers\")\n",
    "plot(x, a5*x .+ b5,label=\"Huber with outliers\")\n",
    "legend(loc =\"best\")\n",
    "ylabel(\"y\")\n",
    "xlabel(\"x\")\n",
    ";"
   ]
  },
  {
   "cell_type": "markdown",
   "metadata": {},
   "source": [
    "## 3. Heat pipe design"
   ]
  },
  {
   "cell_type": "markdown",
   "metadata": {},
   "source": [
    "geometric program:\n",
    "$$~~\\max_{r,T,w}~~\\alpha_{4}Tr^2$$\n",
    "$$s.t.~~\\alpha_{1}Tr/w + \\alpha_{2}r + \\alpha_{3}rw \\leq C_{max}$$\n",
    "$$T_{min} \\leq T \\leq T_{max}$$\n",
    "$$r_{min} \\leq r \\leq r_{max}$$\n",
    "$$w_{min} \\leq w \\leq w_{max}$$\n",
    "$$w \\leq 0.1r$$"
   ]
  },
  {
   "cell_type": "markdown",
   "metadata": {},
   "source": [
    "convex program:\n",
    "$$~~\\max_{r,T,w}~~log(\\alpha_{4})+x+2y$$\n",
    "$$s.t.~~log(e^{log(\\alpha_{1})+x+y-z} + e^{log(\\alpha_{2})+y} + e^{log(\\alpha_{3})+y+z}) \\leq log(C_{max})$$\n",
    "$$log(T_{min}) \\leq x \\leq log(T_{max})$$\n",
    "$$log(r_{min}) \\leq y \\leq log(r_{max})$$\n",
    "$$log(w_{min}) \\leq z \\leq log(w_{max})$$\n",
    "$$z \\leq log(0.1)+y$$\n",
    "\n",
    "$$x := log~T,y := log~r,z := log~w$$"
   ]
  },
  {
   "cell_type": "code",
   "execution_count": 6,
   "metadata": {},
   "outputs": [
    {
     "name": "stdout",
     "output_type": "stream",
     "text": [
      "This is Ipopt version 3.14.4, running with linear solver MUMPS 5.5.1.\n",
      "\n",
      "Number of nonzeros in equality constraint Jacobian...:        0\n",
      "Number of nonzeros in inequality constraint Jacobian.:        5\n",
      "Number of nonzeros in Lagrangian Hessian.............:        6\n",
      "\n",
      "Total number of variables............................:        3\n",
      "                     variables with only lower bounds:        0\n",
      "                variables with lower and upper bounds:        0\n",
      "                     variables with only upper bounds:        0\n",
      "Total number of equality constraints.................:        0\n",
      "Total number of inequality constraints...............:        2\n",
      "        inequality constraints with only lower bounds:        0\n",
      "   inequality constraints with lower and upper bounds:        0\n",
      "        inequality constraints with only upper bounds:        2\n",
      "\n",
      "iter    objective    inf_pr   inf_du lg(mu)  ||d||  lg(rg) alpha_du alpha_pr  ls\n",
      "   0  0.0000000e+00 2.30e+00 7.71e-01  -1.0 0.00e+00    -  0.00e+00 0.00e+00   0\n",
      "   1  1.1490496e+01 8.32e-01 3.67e-01  -1.0 8.32e+00    -  7.31e-01 6.09e-01f  1\n",
      "   2  1.0981404e+01 1.16e-01 6.99e-02  -1.7 2.06e+00    -  1.00e+00 8.46e-01h  1\n",
      "   3  1.0840692e+01 4.91e-03 5.26e-03  -2.5 9.08e-01    -  1.00e+00 1.00e+00h  1\n",
      "   4  1.0845264e+01 1.60e-04 2.21e-04  -3.8 1.46e-01    -  1.00e+00 1.00e+00h  1\n",
      "   5  1.0845558e+01 0.00e+00 4.31e-07  -5.7 6.57e-03    -  1.00e+00 1.00e+00h  1\n",
      "   6  1.0845561e+01 0.00e+00 7.08e-12  -8.6 2.59e-05    -  1.00e+00 1.00e+00h  1\n",
      "\n",
      "Number of Iterations....: 6\n",
      "\n",
      "                                   (scaled)                 (unscaled)\n",
      "Objective...............:  -1.0845561178123496e+01    1.0845561178123496e+01\n",
      "Dual infeasibility......:   7.0848882316454365e-12    7.0848882316454365e-12\n",
      "Constraint violation....:   0.0000000000000000e+00    0.0000000000000000e+00\n",
      "Variable bound violation:   0.0000000000000000e+00    0.0000000000000000e+00\n",
      "Complementarity.........:   2.5250834069909082e-09    2.5250834069909082e-09\n",
      "Overall NLP error.......:   2.5250834069909082e-09    2.5250834069909082e-09\n",
      "\n",
      "\n",
      "Number of objective function evaluations             = 7\n",
      "Number of objective gradient evaluations             = 7\n",
      "Number of equality constraint evaluations            = 0\n",
      "Number of inequality constraint evaluations          = 7\n",
      "Number of equality constraint Jacobian evaluations   = 0\n",
      "Number of inequality constraint Jacobian evaluations = 7\n",
      "Number of Lagrangian Hessian evaluations             = 6\n",
      "Total seconds in IPOPT                               = 0.005\n",
      "\n",
      "EXIT: Optimal Solution Found.\n",
      "T: 23.840239130821068\n",
      "r: 46.39042836246195\n",
      "w: 4.639042762239439\n",
      "objective value: 51305.907379387674\n"
     ]
    }
   ],
   "source": [
    "m = Model(Ipopt.Optimizer) \n",
    "\n",
    "@variable(m, x)\n",
    "@variable(m, y)\n",
    "@variable(m, z)\n",
    "\n",
    "@NLconstraint(m, z <= log(0.1) + y)\n",
    "@NLconstraint(m, log(exp(x+y-z) + exp(y) + exp(y+z)) <= log(500))\n",
    "\n",
    "@objective(m, Max, x + 2y)\n",
    "    \n",
    "optimize!(m)\n",
    "\n",
    "println(\"T: \", exp(value(x)))\n",
    "println(\"r: \", exp(value(y)))\n",
    "println(\"w: \", exp(value(z)))\n",
    "println(\"objective value: \", exp(objective_value(m)))"
   ]
  },
  {
   "cell_type": "markdown",
   "metadata": {},
   "source": [
    "T: 23.840239130821068\n",
    "\n",
    "r: 46.39042836246195\n",
    "\n",
    "w: 4.639042762239439\n",
    "\n",
    "objective value: 51305.907379387674\n"
   ]
  }
 ],
 "metadata": {
  "kernelspec": {
   "display_name": "Julia 1.8.5",
   "language": "julia",
   "name": "julia-1.8"
  },
  "language_info": {
   "file_extension": ".jl",
   "mimetype": "application/julia",
   "name": "julia",
   "version": "1.8.5"
  }
 },
 "nbformat": 4,
 "nbformat_minor": 2
}
