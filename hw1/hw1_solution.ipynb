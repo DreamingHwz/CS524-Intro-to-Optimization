{
 "cells": [
  {
   "cell_type": "markdown",
   "id": "8c693748",
   "metadata": {},
   "source": [
    "# Warm-up\n",
    "\n",
    "(a) The Julia code is shown below. \n",
    "   The result of using HiGHS, ECOS, and SCS solvers are respectively 80.0, 79.9999999936439, 80.00021048847219. They are slightly different because they have different ways to solve the problem, but they can be considered as the same results which nearly equal to 80.\n",
    "\n",
    "(b) HiGHS is the fastest. Maybe it is because these three solvers solve the linear problem differently, and the HiGHS has better performance in this problem.The running times of using HiGHS, ECOS, and SCS solvers are respectively 0.000446, 0.001101, 0.001763(s).\n",
    "\n",
    "(c) The threshold value of $\\alpha$ is 8. The constraint is equivalent to $2x_1-x_2-1/2x_3 \\geq \\alpha$, and the maximum value of $2x_1-x_2-1/2x_3$ is 8 when $x_1 = 4, x_2 = x_3 = 0$, so when $\\alpha$ is bigger than 8, the problem will be infeasible."
   ]
  },
  {
   "cell_type": "code",
   "execution_count": 5,
   "id": "67e0d147",
   "metadata": {},
   "outputs": [
    {
     "name": "stderr",
     "output_type": "stream",
     "text": [
      "\u001b[32m\u001b[1m   Resolving\u001b[22m\u001b[39m package versions...\n",
      "\u001b[32m\u001b[1m  No Changes\u001b[22m\u001b[39m to `C:\\Users\\X\\.julia\\environments\\v1.8\\Project.toml`\n",
      "\u001b[32m\u001b[1m  No Changes\u001b[22m\u001b[39m to `C:\\Users\\X\\.julia\\environments\\v1.8\\Manifest.toml`\n",
      "\u001b[32m\u001b[1m   Resolving\u001b[22m\u001b[39m package versions...\n",
      "\u001b[32m\u001b[1m  No Changes\u001b[22m\u001b[39m to `C:\\Users\\X\\.julia\\environments\\v1.8\\Project.toml`\n",
      "\u001b[32m\u001b[1m  No Changes\u001b[22m\u001b[39m to `C:\\Users\\X\\.julia\\environments\\v1.8\\Manifest.toml`\n",
      "\u001b[32m\u001b[1m   Resolving\u001b[22m\u001b[39m package versions...\n",
      "\u001b[32m\u001b[1m  No Changes\u001b[22m\u001b[39m to `C:\\Users\\X\\.julia\\environments\\v1.8\\Project.toml`\n",
      "\u001b[32m\u001b[1m  No Changes\u001b[22m\u001b[39m to `C:\\Users\\X\\.julia\\environments\\v1.8\\Manifest.toml`\n",
      "\u001b[32m\u001b[1m   Resolving\u001b[22m\u001b[39m package versions...\n",
      "\u001b[32m\u001b[1m  No Changes\u001b[22m\u001b[39m to `C:\\Users\\X\\.julia\\environments\\v1.8\\Project.toml`\n",
      "\u001b[32m\u001b[1m  No Changes\u001b[22m\u001b[39m to `C:\\Users\\X\\.julia\\environments\\v1.8\\Manifest.toml`\n"
     ]
    }
   ],
   "source": [
    "import Pkg\n",
    "Pkg.add(\"HiGHS\")\n",
    "Pkg.add(\"JuMP\")\n",
    "Pkg.add(\"ECOS\")\n",
    "Pkg.add(\"SCS\")"
   ]
  },
  {
   "cell_type": "code",
   "execution_count": 13,
   "id": "73da4d39",
   "metadata": {},
   "outputs": [
    {
     "data": {
      "text/latex": [
       "$$ 5 x1 - x2 + 15 x3 $$"
      ],
      "text/plain": [
       "5 x1 - x2 + 15 x3"
      ]
     },
     "execution_count": 13,
     "metadata": {},
     "output_type": "execute_result"
    }
   ],
   "source": [
    "using JuMP\n",
    "\n",
    "m = Model()\n",
    "\n",
    "@variable(m, 0 <= x1 <= 4)\n",
    "@variable(m, 0 <= x2 <= 4)\n",
    "@variable(m, 0 <= x3 <= 4)\n",
    "@constraint(m, x2 + x3/2 - 2x1 <= 0)\n",
    "@objective(m, Max, 5x1 - x2 + 15x3)"
   ]
  },
  {
   "cell_type": "code",
   "execution_count": 33,
   "id": "1c8d4a41",
   "metadata": {},
   "outputs": [
    {
     "name": "stdout",
     "output_type": "stream",
     "text": [
      "Running HiGHS 1.4.0 [date: 1970-01-01, git hash: bcf6c0b22]\n",
      "Copyright (c) 2022 ERGO-Code under MIT licence terms\n",
      "Presolving model\n",
      "0 rows, 0 cols, 0 nonzeros\n",
      "0 rows, 0 cols, 0 nonzeros\n",
      "Presolve : Reductions: rows 0(-1); columns 0(-3); elements 0(-3) - Reduced to empty\n",
      "Solving the original LP from the solution after postsolve\n",
      "Model   status      : Optimal\n",
      "Objective value     :  8.0000000000e+01\n",
      "HiGHS run time      :          0.00\n",
      "  0.000446 seconds (189 allocations: 12.766 KiB)\n",
      "The result is 80.0\n"
     ]
    }
   ],
   "source": [
    "using HiGHS\n",
    "set_optimizer(m, HiGHS.Optimizer)\n",
    "@time optimize!(m)\n",
    "\n",
    "println(\"The result is \", objective_value(m))"
   ]
  },
  {
   "cell_type": "code",
   "execution_count": 30,
   "id": "e9497ec7",
   "metadata": {},
   "outputs": [
    {
     "name": "stdout",
     "output_type": "stream",
     "text": [
      "  0.001101 seconds (996 allocations: 64.156 KiB)\n",
      "The result is 79.9999999936439\n",
      "\n",
      "ECOS 2.0.8 - (C) embotech GmbH, Zurich Switzerland, 2012-15. Web: www.embotech.com/ECOS\n",
      "\n",
      "It     pcost       dcost      gap   pres   dres    k/t    mu     step   sigma     IR    |   BT\n",
      " 0  -3.807e+001  -1.499e+002  +1e+002  2e-003  3e-001  1e+000  1e+001    ---    ---    1  1  - |  -  - \n",
      " 1  -6.951e+001  -8.916e+001  +2e+001  3e-004  6e-002  1e+000  3e+000  0.9010  9e-002   0  0  0 |  0  0\n",
      " 2  -7.790e+001  -9.311e+001  +1e+001  2e-004  6e-002  2e+000  2e+000  0.6129  4e-001   0  0  0 |  0  0\n",
      " 3  -7.958e+001  -8.042e+001  +7e-001  1e-005  3e-003  1e-001  1e-001  0.9452  5e-004   0  0  0 |  0  0\n",
      " 4  -8.000e+001  -8.001e+001  +9e-003  1e-007  4e-005  1e-003  1e-003  0.9881  3e-004   0  0  0 |  0  0\n",
      " 5  -8.000e+001  -8.000e+001  +1e-004  2e-009  5e-007  2e-005  1e-005  0.9890  1e-004   1  0  0 |  0  0\n",
      " 6  -8.000e+001  -8.000e+001  +1e-006  2e-011  5e-009  2e-007  1e-007  0.9890  1e-004   1  0  0 |  0  0\n",
      " 7  -8.000e+001  -8.000e+001  +1e-008  2e-013  6e-011  2e-009  2e-009  0.9890  1e-004   1  0  0 |  0  0\n",
      "\n",
      "OPTIMAL (within feastol=5.6e-011, reltol=1.5e-010, abstol=1.2e-008).\n",
      "Runtime: 0.000068 seconds.\n",
      "\n"
     ]
    }
   ],
   "source": [
    "using ECOS\n",
    "set_optimizer(m, ECOS.Optimizer)\n",
    "@time optimize!(m)\n",
    "\n",
    "println(\"The result is \", objective_value(m))"
   ]
  },
  {
   "cell_type": "code",
   "execution_count": 31,
   "id": "1de00302",
   "metadata": {},
   "outputs": [
    {
     "name": "stdout",
     "output_type": "stream",
     "text": [
      "  0.001763 seconds (1.14 k allocations: 71.195 KiB)\n",
      "The result is 80.00021048847219\n",
      "------------------------------------------------------------------\n",
      "\t       SCS v3.2.1 - Splitting Conic Solver\n",
      "\t(c) Brendan O'Donoghue, Stanford University, 2012\n",
      "------------------------------------------------------------------\n",
      "problem:  variables n: 3, constraints m: 7\n",
      "cones: \t  l: linear vars: 7\n",
      "settings: eps_abs: 1.0e-004, eps_rel: 1.0e-004, eps_infeas: 1.0e-007\n",
      "\t  alpha: 1.50, scale: 1.00e-001, adaptive_scale: 1\n",
      "\t  max_iters: 100000, normalize: 1, rho_x: 1.00e-006\n",
      "\t  acceleration_lookback: 10, acceleration_interval: 10\n",
      "lin-sys:  sparse-direct-amd-qdldl\n",
      "\t  nnz(A): 9, nnz(P): 0\n",
      "------------------------------------------------------------------\n",
      " iter | pri res | dua res |   gap   |   obj   |  scale  | time (s)\n",
      "------------------------------------------------------------------\n",
      "     0|1.49e+002 1.11e+000 2.38e+003 -1.27e+003 1.00e-001 6.09e-005 \n",
      "    75|1.52e-004 5.05e-005 5.32e-005 -8.00e+001 1.00e-001 9.58e-005 \n",
      "------------------------------------------------------------------\n",
      "status:  solved\n",
      "timings: total: 9.68e-005s = setup: 4.68e-005s + solve: 5.00e-005s\n",
      "\t lin-sys: 1.00e-005s, cones: 5.20e-006s, accel: 2.70e-006s\n",
      "------------------------------------------------------------------\n",
      "objective = -80.000184\n",
      "------------------------------------------------------------------\n"
     ]
    }
   ],
   "source": [
    "using SCS\n",
    "set_optimizer(m, SCS.Optimizer)\n",
    "@time optimize!(m)\n",
    "\n",
    "println(\"The result is \", objective_value(m))"
   ]
  },
  {
   "cell_type": "markdown",
   "id": "db7d1833",
   "metadata": {},
   "source": [
    "# Standard Form"
   ]
  },
  {
   "cell_type": "markdown",
   "id": "ecd7531e",
   "metadata": {},
   "source": [
    "(a) $x = (u, v, z_2, w)$, while $z_1 = u-v, z_3 = t-5$. \n",
    "   $A = \n",
    "   \\left[\n",
    "   \\begin{matrix}\n",
    "   2 & -2 & -1  & 3 \\\\\n",
    "   -2 & 2 & 1  & -3 \\\\\n",
    "   0 & 0 & 1  & 0 \\\\\n",
    "   0 & 0 & 0 & 1\n",
    "  \\end{matrix}\n",
    "  \\right] $, \n",
    "  $b =\\left[\n",
    "   \\begin{matrix}\n",
    "   25 \\\\\n",
    "   -25 \\\\\n",
    "   5 \\\\\n",
    "   25\n",
    "  \\end{matrix}\n",
    "  \\right] $,\n",
    "  $c =\\left[\n",
    "   \\begin{matrix}\n",
    "   -3 \\\\\n",
    "   3 \\\\\n",
    "   -2 \\\\\n",
    "   1\n",
    "  \\end{matrix}\n",
    "  \\right] $.\n",
    " \n",
    "(b) The code is written below."
   ]
  },
  {
   "cell_type": "code",
   "execution_count": 4,
   "id": "f127722c",
   "metadata": {},
   "outputs": [
    {
     "name": "stdout",
     "output_type": "stream",
     "text": [
      "Running HiGHS 1.4.0 [date: 1970-01-01, git hash: bcf6c0b22]\n",
      "Copyright (c) 2022 ERGO-Code under MIT licence terms\n",
      "Presolving model\n",
      "0 rows, 2 cols, 0 nonzeros\n",
      "0 rows, 0 cols, 0 nonzeros\n",
      "Presolve : Reductions: rows 0(-1); columns 0(-3); elements 0(-3) - Reduced to empty\n",
      "Solving the original LP from the solution after postsolve\n",
      "Model   status      : Optimal\n",
      "Objective value     : -9.5000000000e+01\n",
      "HiGHS run time      :          0.00\n",
      "  0.000481 seconds (191 allocations: 12.984 KiB)\n",
      "The result is -95.0\n"
     ]
    }
   ],
   "source": [
    "using JuMP\n",
    "\n",
    "m1 = Model()\n",
    "\n",
    "@variable(m1, z1)\n",
    "@variable(m1, 0 <= z2 <= 5)\n",
    "@variable(m1, -5 <= z3 <= 20)\n",
    "@constraint(m1, 2z1 - z2 + 3z3 == 10)\n",
    "@objective(m1, Min, 3z1 + 2z2 - z3)\n",
    "\n",
    "using HiGHS\n",
    "set_optimizer(m1, HiGHS.Optimizer)\n",
    "@time optimize!(m1)\n",
    "\n",
    "println(\"The result is \", objective_value(m1))"
   ]
  },
  {
   "cell_type": "code",
   "execution_count": 10,
   "id": "6a2cc0e4",
   "metadata": {},
   "outputs": [
    {
     "name": "stdout",
     "output_type": "stream",
     "text": [
      "Running HiGHS 1.4.0 [date: 1970-01-01, git hash: bcf6c0b22]\n",
      "Copyright (c) 2022 ERGO-Code under MIT licence terms\n",
      "Presolving model\n",
      "2 rows, 4 cols, 8 nonzeros\n",
      "0 rows, 0 cols, 0 nonzeros\n",
      "0 rows, 0 cols, 0 nonzeros\n",
      "Presolve : Reductions: rows 0(-4); columns 0(-4); elements 0(-10) - Reduced to empty\n",
      "Solving the original LP from the solution after postsolve\n",
      "Model   status      : Optimal\n",
      "Objective value     :  1.0000000000e+02\n",
      "HiGHS run time      :          0.00\n",
      "  0.000503 seconds (185 allocations: 12.375 KiB)\n",
      "The result is -95.0\n"
     ]
    }
   ],
   "source": [
    "using JuMP\n",
    "\n",
    "m2 = Model()\n",
    "\n",
    "@variable(m2, u >= 0)\n",
    "@variable(m2, v >= 0)\n",
    "@variable(m2, z2 >= 0)\n",
    "@variable(m2, w >= 0)\n",
    "@constraint(m2, 2u - 2v - z2 + 3w <= 25)\n",
    "@constraint(m2, -2u + 2v + z2 - 3w <= -25)\n",
    "@constraint(m2, z2 <= 5)\n",
    "@constraint(m2, w <= 25)\n",
    "@objective(m2, Max, -3u + 3v - 2z2 + w)\n",
    "\n",
    "using HiGHS\n",
    "set_optimizer(m2, HiGHS.Optimizer)\n",
    "@time optimize!(m2)\n",
    "\n",
    "println(\"The result is \", - objective_value(m2) + 5) #original res = -(new res) + 5"
   ]
  },
  {
   "cell_type": "markdown",
   "id": "a8bbe7f7",
   "metadata": {},
   "source": [
    "# Polyhedron modeling"
   ]
  },
  {
   "cell_type": "markdown",
   "id": "9a3f849e",
   "metadata": {},
   "source": [
    "There are five faces of the pyramid-shaped, and it can be defined by following inequalities:\n",
    "$$z \\geq 0$$\n",
    "$$2y + z \\leq 2$$\n",
    "$$-2y + z \\leq 2$$\n",
    "$$2x + z \\leq 2$$\n",
    "$$-2x + z \\leq 2$$\n",
    "$A = \\left[\n",
    "   \\begin{matrix}\n",
    "   0 & 2 & 1\\\\\n",
    "   0 & -2 & 1\\\\\n",
    "   2 & 0 & 1\\\\\n",
    "   -2 & 0 & 1\\\\\n",
    "   0 & 0 & -1\n",
    "  \\end{matrix}\n",
    "  \\right] $, \n",
    "$b = \\left[\n",
    "   \\begin{matrix}\n",
    "   2\\\\\n",
    "   2\\\\\n",
    "   2\\\\\n",
    "   2\\\\\n",
    "   0\n",
    "  \\end{matrix}\n",
    "  \\right] $."
   ]
  },
  {
   "cell_type": "markdown",
   "id": "fa67c038",
   "metadata": {},
   "source": [
    "# Alloy blending problem\n",
    "\n",
    "\n",
    "The company Steelco has received an order for 500 tonnes of steel to be used in shipbuilding.  The steel must have the following charactersitics:\n",
    "\n",
    "| Chemical Element | Minimum Grade | Maximum Grade |\n",
    "|------------------|---------------|---------------|\n",
    "| Carbon (C)       | 2             | 3             |\n",
    "| Copper (Cu)      | 0.4           | 0.6           |\n",
    "| Manganese (Mn)   | 1.2           | 1.65          |\n",
    "\n",
    "The company has seven different raw materials in stock that may be used for the production of this steel. The following table lists the grades, available amounts and prices for all materials:\n",
    "\n",
    "| Raw Material | C%     | Cu%    | Mn%    | Availability in t | Cost in $/t  |\n",
    "|--------------|--------|--------|--------|-------------------|--------------|\n",
    "| Iron1        | 2.5    | 0      | 1.3    | 400               | 200          |\n",
    "| Iron2        | 3      | 0      | 0.8    | 300               | 250          |\n",
    "| Iron3        | 0      | 0.3    | 0      | 600               | 150          |\n",
    "| Cu1          | 0      | 90     | 0      | 500               | 220          |\n",
    "| Cu2          | 0      | 96     | 4      | 200               | 240          |\n",
    "| Al1          | 0      | 0.4    | 1.2    | 300               | 200          |\n",
    "| Al2          | 0      | 0.6    | 0      | 250               | 165          |\n",
    "\n",
    "The objective is to determine the composition of the steel that minimizes the production cost."
   ]
  },
  {
   "cell_type": "markdown",
   "id": "6e811bdd",
   "metadata": {},
   "source": [
    "#### Problem data"
   ]
  },
  {
   "cell_type": "code",
   "execution_count": 13,
   "id": "d83e38da",
   "metadata": {},
   "outputs": [],
   "source": [
    "using JuMP\n",
    "\n",
    "raw = [:iron1, :iron2, :iron3, :cu1, :cu2, :al1, :al2]\n",
    "\n",
    "# composition (in percent) of [C, Cu, Mn]\n",
    "composition = Dict(\n",
    ":iron1 => [2.5,0,1.3],\n",
    ":iron2 => [3,0,0.8],\n",
    ":iron3 => [0,0.3,0],\n",
    ":cu1 => [0,90,0],\n",
    ":cu2 => [0,96,4],\n",
    ":al1 => [0,0.4,1.2],\n",
    ":al2 => [0,0.6,0])\n",
    "\n",
    "# availability in tonnes\n",
    "availability = Dict(\n",
    ":iron1 => 400,\n",
    ":iron2 => 300,\n",
    ":iron3 => 600,\n",
    ":cu1 => 500,\n",
    ":cu2 => 200,\n",
    ":al1 => 300,\n",
    ":al2 => 250)\n",
    "\n",
    "# cost in dollars per tonne\n",
    "cost = Dict(\n",
    ":iron1 => 200,\n",
    ":iron2 => 250,\n",
    ":iron3 => 150,\n",
    ":cu1 => 220,\n",
    ":cu2 => 240,\n",
    ":al1 => 200,\n",
    ":al2 => 165)\n",
    "\n",
    "# minimum and maximum grade of [C, Cu, Mn]\n",
    "MinGrade = [2, 0.4, 1.2]\n",
    "MaxGrade = [3, 0.6, 1.65]\n",
    ";"
   ]
  },
  {
   "cell_type": "code",
   "execution_count": 2,
   "id": "f69d5e55",
   "metadata": {},
   "outputs": [
    {
     "ename": "LoadError",
     "evalue": "UndefVarError: raw not defined",
     "output_type": "error",
     "traceback": [
      "UndefVarError: raw not defined",
      "",
      "Stacktrace:",
      " [1] macro expansion",
      "   @ C:\\Users\\X\\.julia\\packages\\JuMP\\yYfHy\\src\\macros.jl:136 [inlined]",
      " [2] top-level scope",
      "   @ In[2]:4"
     ]
    }
   ],
   "source": [
    "using JuMP, HiGHS\n",
    "m3 = Model()\n",
    "\n",
    "@variable(m3, tons_raw[raw] >= 0 ) \n",
    "\n",
    "@expression(m3, tons_C, sum(tons_raw[i] * composition[i][1]/100 for i in raw) )\n",
    "@expression(m3, tons_Cu,sum(tons_raw[i] * composition[i][2]/100 for i in raw) )\n",
    "@expression(m3, tons_Mn,sum(tons_raw[i] * composition[i][3]/100 for i in raw) )\n",
    "@expression(m3, totalcost,sum(tons_raw[i] * cost[i] for i in raw) )\n",
    "     \n",
    "@constraint(m3, sum(tons_raw[i] for i in raw) == 500 )  \n",
    "@constraint(m3, MinGrade[1]/100 <= tons_C/500 <= MaxGrade[1]/100)\n",
    "@constraint(m3, MinGrade[2]/100 <= tons_Cu/500 <= MaxGrade[2]/100)\n",
    "@constraint(m3, MinGrade[3]/100 <= tons_Mn/500 <= MaxGrade[3]/100)\n",
    "for i in raw\n",
    "    @constraint(m3, tons_raw[i] <= availability[i] ) \n",
    "end\n",
    "\n",
    "@objective(m3, Min, totalcost)"
   ]
  },
  {
   "cell_type": "code",
   "execution_count": 31,
   "id": "a4b0b6e2",
   "metadata": {},
   "outputs": [
    {
     "name": "stdout",
     "output_type": "stream",
     "text": [
      "Running HiGHS 1.4.0 [date: 1970-01-01, git hash: bcf6c0b22]\n",
      "Copyright (c) 2022 ERGO-Code under MIT licence terms\n",
      "Presolving model\n",
      "4 rows, 7 cols, 18 nonzeros\n",
      "4 rows, 7 cols, 18 nonzeros\n",
      "Presolve : Reductions: rows 4(-7); columns 7(-0); elements 18(-7)\n",
      "Solving the presolved LP\n",
      "Using EKK dual simplex solver - serial\n",
      "  Iteration        Objective     Infeasibilities num(sum)\n",
      "          0     0.0000000000e+00 Pr: 4(6.97825) 0s\n",
      "          3     9.8121635792e+04 Pr: 0(0) 0s\n",
      "Solving the original LP from the solution after postsolve\n",
      "Model   status      : Optimal\n",
      "Simplex   iterations: 3\n",
      "Objective value     :  9.8121635792e+04\n",
      "HiGHS run time      :          0.00\n",
      "  0.000716 seconds (305 allocations: 20.766 KiB)\n",
      "The composition of the steel that minimize the production cost is:\n",
      "400.0\n",
      "0.0\n",
      "39.77630199231042\n",
      "0.0\n",
      "2.7612722824187346\n",
      "57.46242572527084\n",
      "0.0\n",
      "The result is 98121.63579168124\n"
     ]
    }
   ],
   "source": [
    "set_optimizer(m3, HiGHS.Optimizer)\n",
    "@time optimize!(m3)\n",
    "\n",
    "println(\"The composition of the steel that minimize the production cost is:\")\n",
    "for i in raw\n",
    "   println(value.(tons_raw[i])) \n",
    "end\n",
    "println(\"The result is \", objective_value(m3))"
   ]
  },
  {
   "cell_type": "markdown",
   "id": "4d908323",
   "metadata": {},
   "source": [
    "The composition of the steel that minimize the production cost is:\n",
    "(as the order of :iron1, :iron2, :iron3, :cu1, :cu2, :al1, :al2)\n",
    "400.0, 0.0, 39.77630199231042, 0.0, 2.7612722824187346, 57.46242572527084, 0.0 (tons).\n",
    "The result is 98121.63579168124($)."
   ]
  },
  {
   "cell_type": "code",
   "execution_count": null,
   "id": "64210c76",
   "metadata": {},
   "outputs": [],
   "source": []
  }
 ],
 "metadata": {
  "kernelspec": {
   "display_name": "Julia 1.8.5",
   "language": "julia",
   "name": "julia-1.8"
  },
  "language_info": {
   "file_extension": ".jl",
   "mimetype": "application/julia",
   "name": "julia",
   "version": "1.8.5"
  }
 },
 "nbformat": 4,
 "nbformat_minor": 5
}
