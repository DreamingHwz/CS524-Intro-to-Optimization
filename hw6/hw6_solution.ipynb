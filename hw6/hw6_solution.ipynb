{
 "cells": [
  {
   "cell_type": "markdown",
   "metadata": {},
   "source": [
    "# HW6  Starter Code"
   ]
  },
  {
   "cell_type": "markdown",
   "metadata": {},
   "source": [
    "## For Q1\n"
   ]
  },
  {
   "cell_type": "code",
   "execution_count": 30,
   "metadata": {},
   "outputs": [
    {
     "name": "stderr",
     "output_type": "stream",
     "text": [
      "\u001b[32m\u001b[1m    Updating\u001b[22m\u001b[39m registry at `C:\\Users\\X\\.julia\\registries\\General.toml`\n",
      "\u001b[32m\u001b[1m   Resolving\u001b[22m\u001b[39m package versions...\n",
      "\u001b[32m\u001b[1m  No Changes\u001b[22m\u001b[39m to `C:\\Users\\X\\.julia\\environments\\v1.8\\Project.toml`\n",
      "\u001b[32m\u001b[1m  No Changes\u001b[22m\u001b[39m to `C:\\Users\\X\\.julia\\environments\\v1.8\\Manifest.toml`\n",
      "\u001b[32m\u001b[1m   Resolving\u001b[22m\u001b[39m package versions...\n",
      "\u001b[32m\u001b[1m  No Changes\u001b[22m\u001b[39m to `C:\\Users\\X\\.julia\\environments\\v1.8\\Project.toml`\n",
      "\u001b[32m\u001b[1m  No Changes\u001b[22m\u001b[39m to `C:\\Users\\X\\.julia\\environments\\v1.8\\Manifest.toml`\n",
      "\u001b[32m\u001b[1m   Resolving\u001b[22m\u001b[39m package versions...\n",
      "\u001b[32m\u001b[1m  No Changes\u001b[22m\u001b[39m to `C:\\Users\\X\\.julia\\environments\\v1.8\\Project.toml`\n",
      "\u001b[32m\u001b[1m  No Changes\u001b[22m\u001b[39m to `C:\\Users\\X\\.julia\\environments\\v1.8\\Manifest.toml`\n",
      "\u001b[32m\u001b[1m   Resolving\u001b[22m\u001b[39m package versions...\n",
      "\u001b[32m\u001b[1m  No Changes\u001b[22m\u001b[39m to `C:\\Users\\X\\.julia\\environments\\v1.8\\Project.toml`\n",
      "\u001b[32m\u001b[1m  No Changes\u001b[22m\u001b[39m to `C:\\Users\\X\\.julia\\environments\\v1.8\\Manifest.toml`\n",
      "\u001b[32m\u001b[1m   Resolving\u001b[22m\u001b[39m package versions...\n",
      "\u001b[32m\u001b[1m  No Changes\u001b[22m\u001b[39m to `C:\\Users\\X\\.julia\\environments\\v1.8\\Project.toml`\n",
      "\u001b[32m\u001b[1m  No Changes\u001b[22m\u001b[39m to `C:\\Users\\X\\.julia\\environments\\v1.8\\Manifest.toml`\n"
     ]
    }
   ],
   "source": [
    "using Pkg\n",
    "Pkg.add(\"JuMP\")\n",
    "Pkg.add(\"HiGHS\")\n",
    "Pkg.add(\"Ipopt\")\n",
    "Pkg.add(\"LinearAlgebra\")\n",
    "Pkg.add(\"Gurobi\")"
   ]
  },
  {
   "cell_type": "code",
   "execution_count": 12,
   "metadata": {},
   "outputs": [
    {
     "name": "stdout",
     "output_type": "stream",
     "text": [
      "probability of point in polyhedron = 0.381\n",
      "************** norm2 **************\n",
      "2-norm distance to P is 0.6235422930265528\n",
      "************** norm1 **************\n",
      "1-norm distance to P is 3.50827854331937\n",
      "************** norm inf **************\n",
      "inf-norm distance to P is 0.07351893237112722\n",
      "**********************************\n"
     ]
    }
   ],
   "source": [
    "using JuMP, HiGHS, Ipopt\n",
    "using LinearAlgebra\n",
    "\n",
    "M = 20\n",
    "N = 100\n",
    "\n",
    "# generate the random polyhedron\n",
    "\n",
    "b = rand(M)*100 \n",
    "A = rand(M,N)*4 .- 2\n",
    "\n",
    "# model for 1-norm projection\n",
    "norm1 = Model(HiGHS.Optimizer) \n",
    "\n",
    "# here define variables for 1-norm projection\n",
    "@variable(norm1, x1[1:N])\n",
    "\n",
    "# model for 2-norm projection\n",
    "norm2 = Model(Ipopt.Optimizer) \n",
    "\n",
    "# here define variables for 2-norm projection\n",
    "@variable(norm2, x2[1:N])\n",
    "\n",
    "# model for infinity-norm projection\n",
    "norm_inf = Model(HiGHS.Optimizer) \n",
    "\n",
    "# here define variables for infinity-norm projection\n",
    "@variable(norm_inf, x3[1:N])\n",
    "\n",
    "# use these commands to suppress diagnostic output\n",
    "set_silent(norm1)\n",
    "set_silent(norm2)\n",
    "set_silent(norm_inf)\n",
    "\n",
    "# do \"iteration\" tests of random points to see what fraction are in the polyhedron\n",
    "\n",
    "count_in=0\n",
    "iteration = 1000\n",
    "\n",
    "# Here insert \"iteration\" random trials for points and check to see whether they are in P. \n",
    "# Increment count_in if they are. \n",
    "# save a point x_hat that is NOT in P\n",
    "# Calculate prob_in_P.\n",
    "\n",
    "x_hat = zeros(N)\n",
    "x_h = rand(iteration, N)*2 .- 1\n",
    "\n",
    "i = 1\n",
    "for i in 1:iteration\n",
    "    if (all(A * x_h[i, :] .<= b))\n",
    "        count_in = count_in + 1\n",
    "    else\n",
    "        x_hat = x_h[i, :]\n",
    "    end\n",
    "end\n",
    "prob_in_P = count_in / iteration\n",
    "\n",
    "print(\"probability of point in polyhedron = \",prob_in_P)\n",
    "\n",
    "# here define constraints for the three projection models \n",
    "\n",
    "# define z_norm2 to be the SQUARE of the 2-norm distance to P\n",
    "# define z_norm1 to be the 1-norm distance to P\n",
    "# define z_norm_inf to be the inf-norm distance to P\n",
    "\n",
    "@variable(norm1, t[1:N])\n",
    "@constraint(norm1, A * x1[1:N] .<= b)\n",
    "@expression(norm1, z_norm1, sum(t[i] for i in 1:N))\n",
    "for i in 1:N\n",
    "    @constraint(norm1, -t[i] <= x1[i] - x_hat[i])\n",
    "    @constraint(norm1, x1[i] - x_hat[i] <= t[i])\n",
    "end\n",
    "\n",
    "@constraint(norm2, A * x2[1:N] .<= b)\n",
    "@expression(norm2, z_norm2, sum((x2[i] - x_hat[i])^2 for i in 1:N))\n",
    "\n",
    "@constraint(norm_inf, A * x3[1:N] .<= b)\n",
    "@variable(norm_inf, t)\n",
    "@expression(norm_inf, z_norm_inf, t)\n",
    "@constraint(norm_inf, -t .<= x3 - x_hat)\n",
    "@constraint(norm_inf, x3 - x_hat .<= t)\n",
    "    \n",
    "# solve the three models and print results.\n",
    "\n",
    "print(\"\\n************** norm2 **************\\n\")\n",
    "@objective(norm2, Min, z_norm2)\n",
    "optimize!(norm2);\n",
    "print(\"2-norm distance to P is \",sqrt(value(z_norm2)))\n",
    "\n",
    "print(\"\\n************** norm1 **************\\n\")\n",
    "@objective(norm1, Min, z_norm1)\n",
    "optimize!(norm1);\n",
    "print(\"1-norm distance to P is \", value(z_norm1))\n",
    "    \n",
    "print(\"\\n************** norm inf **************\\n\")\n",
    "@objective(norm_inf, Min, z_norm_inf)\n",
    "optimize!(norm_inf);\n",
    "print(\"inf-norm distance to P is \",value(z_norm_inf))\n",
    "    \n",
    "print(\"\\n**********************************\\n\")"
   ]
  },
  {
   "cell_type": "markdown",
   "metadata": {},
   "source": [
    "## For Q2\n",
    "### Eigenvectors and eigenvalues"
   ]
  },
  {
   "cell_type": "markdown",
   "metadata": {},
   "source": [
    "### a)\n",
    "\n",
    "$ v = $$\\left[\n",
    "   \\begin{matrix}\n",
    "   x \\\\\n",
    "   y \\\\\n",
    "   z \\\\\n",
    "\\end{matrix}\n",
    "\\right] $,\n",
    "$ Q = $$\\left[\n",
    "   \\begin{matrix}\n",
    "   2 & 2 & -3 \\\\\n",
    "   2 & 6 & -3 \\\\\n",
    "   -3 & -3 & 2 \\\\\n",
    "\\end{matrix}\n",
    "\\right] $."
   ]
  },
  {
   "cell_type": "markdown",
   "metadata": {},
   "source": [
    "### b)\n",
    "\n",
    "The eigenvalues of Q is about $\\left[\n",
    "   \\begin{matrix}\n",
    "   -1.099 \\\\\n",
    "  1.999 \\\\\n",
    "  9.099 \\\\\n",
    "\\end{matrix}\n",
    "\\right]$, which are not all large equal to 0, so Q is not positive semidefinite, so it is not an ellipsoid."
   ]
  },
  {
   "cell_type": "code",
   "execution_count": 12,
   "metadata": {},
   "outputs": [
    {
     "data": {
      "text/plain": [
       "3-element Vector{Float64}:\n",
       " -1.0990195135927852\n",
       "  1.9999999999999998\n",
       "  9.099019513592784"
      ]
     },
     "execution_count": 12,
     "metadata": {},
     "output_type": "execute_result"
    }
   ],
   "source": [
    "using LinearAlgebra\n",
    "\n",
    "A = [2 2 -3; 2 6 -3; -3 -3 2]\n",
    "\n",
    "# use eigvals() to get the eigenvalues of a matrix\n",
    "eigvals(A)"
   ]
  },
  {
   "cell_type": "code",
   "execution_count": 13,
   "metadata": {
    "scrolled": true
   },
   "outputs": [
    {
     "data": {
      "text/plain": [
       "Eigen{Float64, Float64, Matrix{Float64}, Vector{Float64}}\n",
       "values:\n",
       "3-element Vector{Float64}:\n",
       " -1.0990195135927703\n",
       "  2.0000000000000036\n",
       "  9.099019513592784\n",
       "vectors:\n",
       "3×3 Matrix{Float64}:\n",
       " -0.641359  -0.639602  -0.423754\n",
       " -0.138236   0.639602  -0.756175\n",
       " -0.754685   0.426401   0.49863"
      ]
     },
     "execution_count": 13,
     "metadata": {},
     "output_type": "execute_result"
    }
   ],
   "source": [
    "# we can also use eigen() to obtain its eigenvalues and eigenvectors\n",
    "# here L is the array of eigen values, U is the matrix of eigenvectors\n",
    "(L, U) = eigen(A)"
   ]
  },
  {
   "cell_type": "markdown",
   "metadata": {},
   "source": [
    "### c)\n",
    "\n",
    "$v^TQv = v^TU\n",
    "$$\\left[\n",
    "   \\begin{matrix}\n",
    "   -1.099 & 0 & 0\\\\\n",
    "  0 & 1.999 & 0 \\\\\n",
    "  0 & 0 & 9.099 \\\\\n",
    "\\end{matrix}\n",
    "\\right]\n",
    "U^Tv = v^TU\n",
    "$$\\left[\n",
    "   \\begin{matrix}\n",
    "   0 & 0 & 0\\\\\n",
    "  0 & 1.999 & 0 \\\\\n",
    "  0 & 0 & 9.099 \\\\\n",
    "\\end{matrix}\n",
    "\\right]\n",
    "U^Tv - v^TU\n",
    "$$\\left[\n",
    "   \\begin{matrix}\n",
    "   1.099 & 0 & 0\\\\\n",
    "  0 & 0 & 0 \\\\\n",
    "  0 & 0 & 0 \\\\\n",
    "\\end{matrix}\n",
    "\\right]\n",
    "U^Tv = v^TQ_1v - v^TQ_2v = ||Q_1^{1/2}v||^2 - ||Q_2^{1/2}v||^2$,\n",
    "\n",
    "$U = $$\\left[\n",
    "   \\begin{matrix}\n",
    "   -0.641359 & -0.639602 & -0.423754 \\\\\n",
    " -0.138236 & 0.639602 & -0.756175 \\\\\n",
    " -0.754685 & 0.426401 & 0.49863 \\\\\n",
    "\\end{matrix}\n",
    "\\right]$.\n",
    "\n",
    "So,\n",
    "\n",
    "$A = U\\lambda_1^{1/2}U^T, B = U\\lambda_2^{1/2}U^T $, culculated as below:"
   ]
  },
  {
   "cell_type": "code",
   "execution_count": 24,
   "metadata": {
    "scrolled": true
   },
   "outputs": [
    {
     "data": {
      "text/plain": [
       "3×3 Matrix{Float64}:\n",
       "  1.1202     0.388029  -1.02306\n",
       "  0.388029   2.30335   -0.751666\n",
       " -1.02306   -0.751666   1.00712"
      ]
     },
     "execution_count": 24,
     "metadata": {},
     "output_type": "execute_result"
    }
   ],
   "source": [
    "(L, U) = eigen(A)\n",
    "lambda1 = diagm([0, L[2], L[3]])\n",
    "lambda2 = diagm([L[1]*(-1), 0, 0])\n",
    "a = U * sqrt(lambda1) * transpose(U)"
   ]
  },
  {
   "cell_type": "code",
   "execution_count": 25,
   "metadata": {},
   "outputs": [
    {
     "data": {
      "text/plain": [
       "3×3 Matrix{Float64}:\n",
       " 0.431226   0.0929445  0.507422\n",
       " 0.0929445  0.0200328  0.109368\n",
       " 0.507422   0.109368   0.597082"
      ]
     },
     "execution_count": 25,
     "metadata": {},
     "output_type": "execute_result"
    }
   ],
   "source": [
    "b = U * sqrt(lambda2) * transpose(U)"
   ]
  },
  {
   "cell_type": "markdown",
   "metadata": {},
   "source": [
    "### d)\n",
    "\n",
    "Because the first eigenvalue is negative, so $x, y, z$ can be in that direction to make the magnitude large and satisfy the constraint, which is $\\left[\n",
    "   \\begin{matrix}\n",
    "   -0.641359 \\\\\n",
    " -0.138236 \\\\\n",
    " -0.754685 \\\\\n",
    "\\end{matrix}\n",
    "\\right]$. $x, y, z$ can be multiple of it."
   ]
  },
  {
   "cell_type": "markdown",
   "metadata": {},
   "source": [
    "## For Q3\n",
    "\n",
    "### 1. Plotting"
   ]
  },
  {
   "cell_type": "code",
   "execution_count": 34,
   "metadata": {},
   "outputs": [
    {
     "data": {
      "text/plain": [
       "plotpoints (generic function with 1 method)"
      ]
     },
     "execution_count": 34,
     "metadata": {},
     "output_type": "execute_result"
    }
   ],
   "source": [
    "using PyPlot, CSV, DataFrames\n",
    "\n",
    "data = CSV.read(\"lasso_data.csv\", DataFrame)\n",
    "x = data[:,1]\n",
    "y = data[:,2]\n",
    "\n",
    "function plotpoints()\n",
    "    plot(x, y, \".\");\n",
    "    xlabel(\"x\"); ylabel(\"y\");\n",
    "    n=size(data, 1);\n",
    "end"
   ]
  },
  {
   "cell_type": "code",
   "execution_count": 64,
   "metadata": {},
   "outputs": [
    {
     "data": {
      "text/plain": [
       "plot2 (generic function with 1 method)"
      ]
     },
     "execution_count": 64,
     "metadata": {},
     "output_type": "execute_result"
    }
   ],
   "source": [
    "# plot a line on top of it\n",
    "\n",
    "f(x) = -6 * x + 1.8;\n",
    "\n",
    "# points of the line\n",
    "xs = range(0.1, 0.5, length=100);\n",
    "ys = f.(xs);\n",
    "\n",
    "function plot2(xs, ys, d)\n",
    "    # plot the scatters again\n",
    "    # plot(x, y, \".\");\n",
    "    plotpoints()\n",
    "    # plot the line\n",
    "    plot(xs,ys,\"-\");\n",
    "    title(string(\"polynomial fit (deg=\", d, \") \")); # using ordinary least squares it is not!\n",
    "    # xlabel(\"x\"); ylabel(\"y\");\n",
    "end"
   ]
  },
  {
   "cell_type": "markdown",
   "metadata": {},
   "source": [
    "### a)\n",
    "\n",
    "The magnitudes of the coefficients in the resulting polynomial fits are large."
   ]
  },
  {
   "cell_type": "code",
   "execution_count": 65,
   "metadata": {},
   "outputs": [
    {
     "name": "stdout",
     "output_type": "stream",
     "text": [
      "Set parameter Username\r\n",
      "Academic license - for non-commercial use only - expires 2024-02-24\r\n",
      "Gurobi Optimizer version 10.0.1 build v10.0.1rc0 (win64)\r\n",
      "\r\n",
      "CPU model: Intel(R) Core(TM) i7-9750H CPU @ 2.60GHz, instruction set [SSE2|AVX|AVX2]\r\n",
      "Thread count: 6 physical cores, 12 logical processors, using up to 12 threads\r\n",
      "\r\n",
      "Optimize a model with 0 rows, 6 columns and 0 nonzeros\r\n",
      "Model fingerprint: 0x5170d1f1\r\n",
      "Model has 21 quadratic objective terms\r\n",
      "Coefficient statistics:\r\n",
      "  Matrix range     [0e+00, 0e+00]\r\n",
      "  Objective range  [9e-01, 1e+01]\r\n",
      "  QObjective range [2e-02, 1e+02]\r\n",
      "  Bounds range     [0e+00, 0e+00]\r\n",
      "  RHS range        [0e+00, 0e+00]\r\n",
      "Presolve time: 0.00s\r\n",
      "Presolved: 0 rows, 6 columns, 0 nonzeros\r\n",
      "Presolved model has 21 quadratic objective terms\r\n",
      "Ordering time: 0.00s\r\n",
      "\r\n",
      "Barrier statistics:\r\n",
      " Free vars  : 11\r\n",
      " AA' NZ     : 1.000e+01\r\n",
      " Factor NZ  : 1.500e+01\r\n",
      " Factor Ops : 5.500e+01 (less than 1 second per iteration)\r\n",
      " Threads    : 1\r\n",
      "\r\n",
      "                  Objective                Residual\r\n",
      "Iter       Primal          Dual         Primal    Dual     Compl     Time\r\n",
      "   0   3.89193022e+01  3.89193022e+01  0.00e+00 2.88e+04  0.00e+00     0s\r\n",
      "   1   3.85214444e+01  3.89182495e+01  2.10e-08 2.87e+04  0.00e+00     0s\r\n",
      "   2   3.81335071e+01  3.89151743e+01  4.19e-08 2.85e+04  0.00e+00     0s\r\n",
      "   3   3.76319355e+01  3.89081298e+01  1.04e-07 2.83e+04  0.00e+00     0s\r\n",
      "   4   3.59854377e+01  3.88599488e+01  2.31e-07 2.77e+04  0.00e+00     0s\r\n",
      "   5   3.43346343e+01  3.87706178e+01  5.08e-07 2.70e+04  0.00e+00     0s\r\n",
      "   6   2.99729589e+01  3.83137905e+01  1.03e-06 2.52e+04  0.00e+00     0s\r\n",
      "   7   1.70915607e+01  3.42967433e+01  1.35e-06 1.88e+04  0.00e+00     0s\r\n",
      "   8   6.27027332e+00  2.39136805e+01  2.36e-06 1.07e+04  0.00e+00     0s\r\n",
      "   9   1.07118873e+00  1.01402113e+00  1.92e-06 1.07e-02  0.00e+00     0s\r\n",
      "  10   1.01399311e+00  1.01399301e+00  3.57e-12 1.07e-08  0.00e+00     0s\r\n",
      "\r\n",
      "Barrier solved model in 10 iterations and 0.00 seconds (0.00 work units)\r\n",
      "Optimal objective 1.01399311e+00\r\n",
      "\r\n",
      "\r\n",
      "User-callback calls 57, time in user-callback 0.00 sec\r\n",
      "[-247.38754866715516, 495.9334908255358, -254.1415654489827, 16.757301325186397, 5.737209156076103, 0.3898945489261928]\n"
     ]
    }
   ],
   "source": [
    "using Gurobi\n",
    "\n",
    "# Order of polynomial used for fitting\n",
    "k = 5\n",
    "\n",
    "# Create the A matrix (where each row corresponds to one observation x_i and each column is an x^k term)\n",
    "n = length(x)\n",
    "A = zeros(n,k+1)\n",
    "for i = 1:n\n",
    "    for j = 1:k+1\n",
    "        A[i,j] = x[i]^(k+1-j)\n",
    "    end\n",
    "end\n",
    "\n",
    "m = Model(Gurobi.Optimizer)\n",
    "\n",
    "@variable(m, u[1:k+1])\n",
    "@objective(m, Min, sum( (y - A*u).^2 ) )\n",
    "\n",
    "optimize!(m)\n",
    "\n",
    "println(value.(u))"
   ]
  },
  {
   "cell_type": "code",
   "execution_count": 66,
   "metadata": {},
   "outputs": [
    {
     "data": {
      "image/png": "[encoded data removed]",
      "text/plain": [
       "Figure(PyObject <Figure size 640x480 with 1 Axes>)"
      ]
     },
     "metadata": {},
     "output_type": "display_data"
    },
    {
     "data": {
      "text/plain": [
       "PyObject Text(0.5, 1.0, 'polynomial fit (deg=5) ')"
      ]
     },
     "execution_count": 66,
     "metadata": {},
     "output_type": "execute_result"
    }
   ],
   "source": [
    "plot2(x, value.(A*u), 5)"
   ]
  },
  {
   "cell_type": "code",
   "execution_count": 67,
   "metadata": {},
   "outputs": [
    {
     "name": "stdout",
     "output_type": "stream",
     "text": [
      "Set parameter Username\r\n",
      "Academic license - for non-commercial use only - expires 2024-02-24\r\n",
      "Gurobi Optimizer version 10.0.1 build v10.0.1rc0 (win64)\r\n",
      "\r\n",
      "CPU model: Intel(R) Core(TM) i7-9750H CPU @ 2.60GHz, instruction set [SSE2|AVX|AVX2]\r\n",
      "Thread count: 6 physical cores, 12 logical processors, using up to 12 threads\r\n",
      "\r\n",
      "Optimize a model with 0 rows, 16 columns and 0 nonzeros\r\n",
      "Model fingerprint: 0xb0d3a865\r\n",
      "Model has 136 quadratic objective terms\r\n",
      "Coefficient statistics:\r\n",
      "  Matrix range     [0e+00, 0e+00]\r\n",
      "  Objective range  [6e-04, 1e+01]\r\n",
      "  QObjective range [2e-08, 1e+02]\r\n",
      "  Bounds range     [0e+00, 0e+00]\r\n",
      "  RHS range        [0e+00, 0e+00]\r\n",
      "Presolve time: 0.00s\r\n",
      "Presolved: 0 rows, 16 columns, 0 nonzeros\r\n",
      "Presolved model has 136 quadratic objective terms\r\n",
      "Ordering time: 0.00s\r\n",
      "\r\n",
      "Barrier statistics:\r\n",
      " Free vars  : 24\r\n",
      " AA' NZ     : 2.800e+01\r\n",
      " Factor NZ  : 3.600e+01\r\n",
      " Factor Ops : 2.040e+02 (less than 1 second per iteration)\r\n",
      " Threads    : 1\r\n",
      "\r\n",
      "                  Objective                Residual\r\n",
      "Iter       Primal          Dual         Primal    Dual     Compl     Time\r\n",
      "   0   3.89193022e+01  3.89193022e+01  0.00e+00 7.45e+00  0.00e+00     0s\r\n",
      "   1   1.01407204e+00  1.02152533e+00  4.92e-09 6.98e-05  0.00e+00     0s\r\n",
      "   2   1.00888453e+00  1.01293923e+00  1.22e-08 4.07e-06  0.00e+00     0s\r\n",
      "   3  -1.78610828e-01  1.01305424e+00  1.46e-08 3.59e-06  0.00e+00     0s\r\n",
      "   4  -3.68020836e+00  1.01314276e+00  6.87e-09 7.65e-07  0.00e+00     0s\r\n",
      "   5  -7.18176452e+00  1.01314276e+00  8.84e-11 7.65e-07  0.00e+00     0s\r\n",
      "   6  -1.06833207e+01  1.01314276e+00  3.01e-10 7.65e-07  0.00e+00     0s\r\n",
      "   7  -1.41848769e+01  1.01314276e+00  7.54e-10 7.65e-07  0.00e+00     0s\r\n",
      "   8  -1.76864331e+01  1.01314276e+00  3.61e-10 7.65e-07  0.00e+00     0s\r\n",
      "   9  -2.11879893e+01  1.01314276e+00  4.25e-10 7.65e-07  0.00e+00     0s\r\n",
      "  10  -2.46895454e+01  1.01314276e+00  7.08e-10 7.65e-07  0.00e+00     0s\r\n",
      "  11  -2.81911016e+01  1.01314276e+00  3.92e-10 7.65e-07  0.00e+00     0s\r\n",
      "  12  -3.16926578e+01  1.01314276e+00  1.28e-09 7.65e-07  0.00e+00     0s\r\n",
      "  13  -3.51942140e+01  1.01314276e+00  2.56e-09 7.65e-07  0.00e+00     0s\r\n",
      "  14  -3.86957702e+01  1.01314276e+00  1.02e-09 7.65e-07  0.00e+00     0s\r\n",
      "  15  -4.21973264e+01  1.01314276e+00  7.69e-10 7.65e-07  0.00e+00     0s\r\n",
      "  16  -4.56988826e+01  1.01314276e+00  5.14e-10 7.65e-07  0.00e+00     0s\r\n",
      "  17  -4.92004387e+01  1.01314276e+00  1.71e-09 7.65e-07  0.00e+00     0s\r\n",
      "  18  -5.27019949e+01  1.01314276e+00  9.34e-10 7.65e-07  0.00e+00     0s\r\n",
      "  19  -5.62035511e+01  1.01314276e+00  8.88e-10 7.65e-07  0.00e+00     0s\r\n",
      "  20  -5.97051073e+01  1.01314276e+00  3.26e-09 7.65e-07  0.00e+00     0s\r\n",
      "  21  -6.32066635e+01  1.01314276e+00  1.31e-09 7.65e-07  0.00e+00     0s\r\n",
      "  22  -6.67082197e+01  1.01314276e+00  1.27e-09 7.65e-07  0.00e+00     0s\r\n",
      "  23  -7.02097759e+01  1.01314276e+00  2.11e-09 7.65e-07  0.00e+00     0s\r\n",
      "  24  -7.37113321e+01  1.01314276e+00  4.71e-09 7.65e-07  0.00e+00     0s\r\n",
      "  25  -7.72128882e+01  1.01314276e+00  4.77e-09 7.65e-07  0.00e+00     0s\r\n",
      "  26  -8.07144444e+01  1.01314276e+00  3.09e-09 7.65e-07  0.00e+00     0s\r\n",
      "  27  -8.42160006e+01  1.01314276e+00  1.81e-09 7.65e-07  0.00e+00     0s\r\n",
      "  28  -8.77175568e+01  1.01314276e+00  2.15e-09 7.65e-07  0.00e+00     0s\r\n",
      "  29  -9.12191130e+01  1.01314276e+00  4.42e-09 7.65e-07  0.00e+00     0s\r\n",
      "  30  -9.47206691e+01  1.01314276e+00  1.00e-09 7.65e-07  0.00e+00     0s\r\n",
      "  31  -9.82222253e+01  1.01314276e+00  8.83e-10 7.65e-07  0.00e+00     0s\r\n",
      "  32  -1.01723782e+02  1.01314276e+00  3.34e-09 7.65e-07  0.00e+00     0s\r\n",
      "  33  -1.05225338e+02  1.01314276e+00  3.93e-09 7.65e-07  0.00e+00     0s\r\n",
      "  34  -1.08726894e+02  1.01314276e+00  3.58e-09 7.65e-07  0.00e+00     0s\r\n",
      "  35  -1.12228450e+02  1.01314276e+00  2.48e-09 7.65e-07  0.00e+00     0s\r\n",
      "  36  -1.15730006e+02  1.01314276e+00  1.33e-08 7.65e-07  0.00e+00     0s\r\n",
      "  37  -1.19231562e+02  1.01314276e+00  6.78e-09 7.65e-07  0.00e+00     0s\r\n",
      "  38  -1.22733119e+02  1.01314276e+00  2.14e-09 7.65e-07  0.00e+00     0s\r\n",
      "  39  -1.26234675e+02  1.01314276e+00  3.31e-09 7.65e-07  0.00e+00     0s\r\n",
      "  40  -1.29736231e+02  1.01314276e+00  3.21e-09 7.65e-07  0.00e+00     0s\r\n",
      "  41  -1.33237787e+02  1.01314276e+00  3.65e-09 7.65e-07  0.00e+00     0s\r\n",
      "  42  -1.36739343e+02  1.01314276e+00  9.92e-09 7.65e-07  0.00e+00     0s\r\n",
      "  43  -1.40240900e+02  1.01314276e+00  1.38e-08 7.65e-07  0.00e+00     0s\r\n",
      "  44  -1.43742456e+02  1.01314276e+00  1.32e-08 7.65e-07  0.00e+00     0s\r\n",
      "  45  -1.47244012e+02  1.01314276e+00  9.29e-09 7.65e-07  0.00e+00     0s\r\n",
      "  46  -1.50745568e+02  1.01314276e+00  1.17e-08 7.65e-07  0.00e+00     0s\r\n",
      "  47  -1.54247124e+02  1.01314276e+00  7.48e-09 7.65e-07  0.00e+00     0s\r\n",
      "  48  -1.57748680e+02  1.01314276e+00  1.45e-09 7.65e-07  0.00e+00     0s\r\n",
      "  49  -1.61250237e+02  1.01314276e+00  2.75e-09 7.65e-07  0.00e+00     0s\r\n",
      "  50  -1.64751793e+02  1.01314276e+00  6.20e-09 7.65e-07  0.00e+00     0s\r\n",
      "  51  -1.68253349e+02  1.01314276e+00  9.40e-09 7.65e-07  0.00e+00     0s\r\n",
      "\r\n",
      "Barrier performed 51 iterations in 0.00 seconds (0.00 work units)\r\n",
      "Numerical trouble encountered\r\n",
      "\r\n",
      "Model may be infeasible or unbounded.  Consider using the\r\n",
      "homogeneous algorithm (through parameter 'BarHomogeneous')\r\n",
      "\r\n",
      "\r\n",
      "User-callback calls 142, time in user-callback 0.00 sec\r\n"
     ]
    },
    {
     "data": {
      "text/plain": [
       "16-element Vector{Float64}:\n",
       "       8.10196734771287e11\n",
       "      -2.711203586668869e12\n",
       "       3.414033253041093e12\n",
       "      -1.1828012881790938e12\n",
       "      -1.9910418508955015e12\n",
       "       3.3098175101053374e12\n",
       "      -2.588031315622572e12\n",
       "       1.313321578703679e12\n",
       "      -4.700347018226031e11\n",
       "       1.2226835359193762e11\n",
       "      -2.3274602520483597e10\n",
       "       3.2112202895422864e9\n",
       "      -3.1250932858722436e8\n",
       "       2.0323937244193077e7\n",
       " -791829.5776914086\n",
       "   13959.473392449543"
      ]
     },
     "execution_count": 67,
     "metadata": {},
     "output_type": "execute_result"
    }
   ],
   "source": [
    "using Gurobi\n",
    "\n",
    "# Order of polynomial used for fitting\n",
    "k = 15\n",
    "\n",
    "# Create the A matrix (where each row corresponds to one observation x_i and each column is an x^k term)\n",
    "n = length(x)\n",
    "A = zeros(n,k+1)\n",
    "for i = 1:n\n",
    "    for j = 1:k+1\n",
    "        A[i,j] = x[i]^(k+1-j)\n",
    "    end\n",
    "end\n",
    "\n",
    "m = Model(Gurobi.Optimizer)\n",
    "\n",
    "@variable(m, u[1:k+1])\n",
    "@objective(m, Min, sum( (y - A*u).^2 ) )\n",
    "\n",
    "optimize!(m)\n",
    "\n",
    "u = A\\y"
   ]
  },
  {
   "cell_type": "code",
   "execution_count": 68,
   "metadata": {},
   "outputs": [
    {
     "data": {
      "image/png": "[encoded data removed]",
      "text/plain": [
       "Figure(PyObject <Figure size 640x480 with 1 Axes>)"
      ]
     },
     "metadata": {},
     "output_type": "display_data"
    },
    {
     "data": {
      "text/plain": [
       "PyObject Text(0.5, 1.0, 'polynomial fit (deg=15) ')"
      ]
     },
     "execution_count": 68,
     "metadata": {},
     "output_type": "execute_result"
    }
   ],
   "source": [
    "plot2(x, value.(A*u), 15)"
   ]
  },
  {
   "cell_type": "markdown",
   "metadata": {},
   "source": [
    "### b)\n",
    "\n",
    "The fit is more smooth. The magnitudes of the coefficients become smaller."
   ]
  },
  {
   "cell_type": "code",
   "execution_count": 69,
   "metadata": {},
   "outputs": [
    {
     "name": "stdout",
     "output_type": "stream",
     "text": [
      "Set parameter Username\r\n",
      "Academic license - for non-commercial use only - expires 2024-02-24\r\n",
      "Gurobi Optimizer version 10.0.1 build v10.0.1rc0 (win64)\r\n",
      "\r\n",
      "CPU model: Intel(R) Core(TM) i7-9750H CPU @ 2.60GHz, instruction set [SSE2|AVX|AVX2]\r\n",
      "Thread count: 6 physical cores, 12 logical processors, using up to 12 threads\r\n",
      "\r\n",
      "Optimize a model with 0 rows, 16 columns and 0 nonzeros\r\n",
      "Model fingerprint: 0xbc5f72a2\r\n",
      "Model has 136 quadratic objective terms\r\n",
      "Coefficient statistics:\r\n",
      "  Matrix range     [0e+00, 0e+00]\r\n",
      "  Objective range  [6e-04, 1e+01]\r\n",
      "  QObjective range [9e-08, 1e+02]\r\n",
      "  Bounds range     [0e+00, 0e+00]\r\n",
      "  RHS range        [0e+00, 0e+00]\r\n",
      "Presolve time: 0.00s\r\n",
      "Presolved: 0 rows, 16 columns, 0 nonzeros\r\n",
      "Presolved model has 136 quadratic objective terms\r\n",
      "Ordering time: 0.00s\r\n",
      "\r\n",
      "Barrier statistics:\r\n",
      " Free vars  : 31\r\n",
      " AA' NZ     : 1.050e+02\r\n",
      " Factor NZ  : 1.200e+02\r\n",
      " Factor Ops : 1.240e+03 (less than 1 second per iteration)\r\n",
      " Threads    : 1\r\n",
      "\r\n",
      "                  Objective                Residual\r\n",
      "Iter       Primal          Dual         Primal    Dual     Compl     Time\r\n",
      "   0   3.89193022e+01  3.89193022e+01  0.00e+00 7.61e+00  0.00e+00     0s\r\n",
      "   1   1.02255860e+00  1.02901621e+00  5.72e-09 6.10e-05  0.00e+00     0s\r\n",
      "   2   1.02232900e+00  1.02232928e+00  1.75e-08 4.94e-07  0.00e+00     0s\r\n",
      "   3   1.02232895e+00  1.02232895e+00  2.20e-11 2.12e-11  0.00e+00     0s\r\n",
      "\r\n",
      "Barrier solved model in 3 iterations and 0.00 seconds (0.00 work units)\r\n",
      "Optimal objective 1.02232895e+00\r\n",
      "\r\n",
      "\r\n",
      "User-callback calls 43, time in user-callback 0.00 sec\r\n"
     ]
    },
    {
     "data": {
      "text/plain": [
       "16-element Vector{Float64}:\n",
       "  -0.5678886387696518\n",
       "  -0.934125691797301\n",
       "  -1.4894063560214876\n",
       "  -2.2752867235667322\n",
       "  -3.266879495767818\n",
       "  -4.253387313194705\n",
       "  -4.621193052728553\n",
       "  -3.055094758523602\n",
       "   2.6232774943328967\n",
       "  14.708534820390213\n",
       "  32.18768266640952\n",
       "  42.66479301924787\n",
       "  15.60090251702806\n",
       " -58.101276059176634\n",
       "  15.382605620637523\n",
       "  -0.06959120627288001"
      ]
     },
     "execution_count": 69,
     "metadata": {},
     "output_type": "execute_result"
    }
   ],
   "source": [
    "lambda = 1e-6\n",
    "\n",
    "# Order of polynomial used for fitting\n",
    "k = 15\n",
    "\n",
    "# Create the A matrix (where each row corresponds to one observation x_i and each column is an x^k term)\n",
    "n = length(x)\n",
    "A = zeros(n,k+1)\n",
    "for i = 1:n\n",
    "    for j = 1:k+1\n",
    "        A[i,j] = x[i]^(k+1-j)\n",
    "    end\n",
    "end\n",
    "\n",
    "m = Model(Gurobi.Optimizer)\n",
    "\n",
    "@variable(m, u[1:k+1])\n",
    "@objective(m, Min, sum( (y - A*u).^2 )+lambda * sum(u.^2) )\n",
    "\n",
    "optimize!(m)\n",
    "\n",
    "u = value.(u)"
   ]
  },
  {
   "cell_type": "code",
   "execution_count": 71,
   "metadata": {},
   "outputs": [
    {
     "data": {
      "image/png": "[encoded data removed]",
      "text/plain": [
       "Figure(PyObject <Figure size 640x480 with 1 Axes>)"
      ]
     },
     "metadata": {},
     "output_type": "display_data"
    },
    {
     "data": {
      "text/plain": [
       "PyObject Text(0.5, 1.0, 'polynomial fit (deg=15) ')"
      ]
     },
     "execution_count": 71,
     "metadata": {},
     "output_type": "execute_result"
    }
   ],
   "source": [
    "plot2(x, value.(A*u), 15)"
   ]
  },
  {
   "cell_type": "markdown",
   "metadata": {},
   "source": [
    "### c)"
   ]
  },
  {
   "cell_type": "code",
   "execution_count": 131,
   "metadata": {},
   "outputs": [
    {
     "name": "stdout",
     "output_type": "stream",
     "text": [
      "Set parameter Username\r\n",
      "Academic license - for non-commercial use only - expires 2024-02-24\r\n",
      "Gurobi Optimizer version 10.0.1 build v10.0.1rc0 (win64)\r\n",
      "\r\n",
      "CPU model: Intel(R) Core(TM) i7-9750H CPU @ 2.60GHz, instruction set [SSE2|AVX|AVX2]\r\n",
      "Thread count: 6 physical cores, 12 logical processors, using up to 12 threads\r\n",
      "\r\n",
      "Optimize a model with 32 rows, 32 columns and 64 nonzeros\r\n",
      "Model fingerprint: 0xa1ca4f9c\r\n",
      "Model has 136 quadratic objective terms\r\n",
      "Coefficient statistics:\r\n",
      "  Matrix range     [1e+00, 1e+00]\r\n",
      "  Objective range  [6e-04, 1e+01]\r\n",
      "  QObjective range [2e-08, 1e+02]\r\n",
      "  Bounds range     [0e+00, 0e+00]\r\n",
      "  RHS range        [0e+00, 0e+00]\r\n",
      "Presolve removed 16 rows and 0 columns\r\n",
      "Presolve time: 0.00s\r\n",
      "Presolved: 16 rows, 32 columns, 32 nonzeros\r\n",
      "Presolved model has 136 quadratic objective terms\r\n",
      "Ordering time: 0.00s\r\n",
      "\r\n",
      "Barrier statistics:\r\n",
      " Free vars  : 24\r\n",
      " AA' NZ     : 1.270e+02\r\n",
      " Factor NZ  : 3.000e+02\r\n",
      " Factor Ops : 4.900e+03 (less than 1 second per iteration)\r\n",
      " Threads    : 1\r\n",
      "\r\n",
      "                  Objective                Residual\r\n",
      "Iter       Primal          Dual         Primal    Dual     Compl     Time\r\n",
      "   0   2.00389193e+04  3.89193022e+01  0.00e+00 4.23e+00  1.00e+06     0s\r\n",
      "   1   1.99763188e+04  1.58943336e+01  1.94e-09 5.25e-01  2.15e+03     0s\r\n",
      "   2   9.87563992e+03  5.99242171e+00  1.51e-10 1.00e-05  3.08e+02     0s\r\n",
      "   3   3.37328045e+01  6.12830383e+00  1.54e-11 6.19e-07  8.63e-01     0s\r\n",
      "   4   1.14134771e+01  1.04407625e+01  3.94e-10 2.73e-08  3.04e-02     0s\r\n",
      "   5   1.05071328e+01  1.05050069e+01  8.79e-10 5.47e-09  6.64e-05     0s\r\n",
      "   6   1.05050930e+01  1.05050908e+01  4.16e-10 8.57e-09  6.65e-08     0s\r\n",
      "   7   1.05050909e+01  1.05050909e+01  2.72e-13 8.58e-12  6.65e-11     0s\r\n",
      "\r\n",
      "Barrier solved model in 7 iterations and 0.00 seconds (0.00 work units)\r\n",
      "Optimal objective 1.05050909e+01\r\n",
      "\r\n",
      "\r\n",
      "User-callback calls 99, time in user-callback 0.00 sec\r\n"
     ]
    },
    {
     "data": {
      "text/plain": [
       "16-element Vector{Float64}:\n",
       " -2.7917517461287066e-14\n",
       " -5.6039444416987185e-14\n",
       " -1.1279132309722764e-13\n",
       " -2.276608514731771e-13\n",
       " -3.495482091251415e-13\n",
       " -7.129221540683442e-13\n",
       " -1.458730383012584e-12\n",
       " -2.993176591752737e-12\n",
       " -6.151692356995637e-12\n",
       " -1.2621897502447347e-11\n",
       " -2.397131129709997e-11\n",
       " -4.958719545788298e-11\n",
       " -2.0830236849187128e-10\n",
       " -4.294555879000765e-9\n",
       " -5.687326027562717\n",
       "  1.779104386213138"
      ]
     },
     "execution_count": 131,
     "metadata": {},
     "output_type": "execute_result"
    }
   ],
   "source": [
    "lambda = 1e-0\n",
    "\n",
    "# Order of polynomial used for fitting\n",
    "k = 15\n",
    "\n",
    "# Create the A matrix (where each row corresponds to one observation x_i and each column is an x^k term)\n",
    "n = length(x)\n",
    "A = zeros(n,k+1)\n",
    "for i = 1:n\n",
    "    for j = 1:k+1\n",
    "        A[i,j] = x[i]^(k+1-j)\n",
    "    end\n",
    "end\n",
    "\n",
    "m = Model(Gurobi.Optimizer)\n",
    "\n",
    "@variable(m, u[1:k+1])\n",
    "@variable(m, t[1:k+1])\n",
    "@objective(m, Min, sum( (y - A*u).^2 )+lambda * sum(t) )\n",
    "@constraint(m, u .<= t)\n",
    "@constraint(m, -t .<= u)\n",
    "\n",
    "optimize!(m)\n",
    "\n",
    "u = value.(u)\n",
    "# for i in 1:k+1\n",
    "#     if u[i] < 1e-5\n",
    "#         u[i] = 0\n",
    "#     end\n",
    "# end\n",
    "# print(u)"
   ]
  },
  {
   "cell_type": "code",
   "execution_count": 132,
   "metadata": {},
   "outputs": [
    {
     "data": {
      "image/png": "[encoded data removed]",
      "text/plain": [
       "Figure(PyObject <Figure size 640x480 with 1 Axes>)"
      ]
     },
     "metadata": {},
     "output_type": "display_data"
    },
    {
     "data": {
      "text/plain": [
       "PyObject Text(0.5, 1.0, 'polynomial fit (deg=15) ')"
      ]
     },
     "execution_count": 132,
     "metadata": {},
     "output_type": "execute_result"
    }
   ],
   "source": [
    "plot2(x, value.(A*u), 15)"
   ]
  },
  {
   "cell_type": "code",
   "execution_count": null,
   "metadata": {},
   "outputs": [],
   "source": []
  }
 ],
 "metadata": {
  "kernelspec": {
   "display_name": "Julia 1.8.5",
   "language": "julia",
   "name": "julia-1.8"
  },
  "language_info": {
   "file_extension": ".jl",
   "mimetype": "application/julia",
   "name": "julia",
   "version": "1.8.5"
  }
 },
 "nbformat": 4,
 "nbformat_minor": 4
}
